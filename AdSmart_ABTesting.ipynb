{
  "nbformat": 4,
  "nbformat_minor": 0,
  "metadata": {
    "colab": {
      "name": "AdSmart_ABTesting.ipynb",
      "provenance": [],
      "collapsed_sections": [
        "kLG2VTrnTvYL",
        "XecOwPNorl2W",
        "J4wfHZwQrs-t",
        "a9BPYqunry97",
        "7KMRBJ7zr9HD",
        "zSGyg6kWsBUl",
        "JAQOXE_B5pDw",
        "qQWHaCeQcZT6",
        "zt9QrWm7u4MQ",
        "L3TK5DzS1FOR",
        "vTbdjSrhVIiT",
        "noZz5YRQXKzi",
        "xrmHVMVsVS--"
      ],
      "include_colab_link": true
    },
    "kernelspec": {
      "display_name": "Python 3",
      "language": "python",
      "name": "python3"
    },
    "language_info": {
      "codemirror_mode": {
        "name": "ipython",
        "version": 3
      },
      "file_extension": ".py",
      "mimetype": "text/x-python",
      "name": "python",
      "nbconvert_exporter": "python",
      "pygments_lexer": "ipython3",
      "version": "3.7.4"
    }
  },
  "cells": [
    {
      "cell_type": "markdown",
      "metadata": {
        "id": "view-in-github",
        "colab_type": "text"
      },
      "source": [
        "<a href=\"https://colab.research.google.com/github/stephyi/AdSmart_AB_Test/blob/master/AdSmart_ABTesting.ipynb\" target=\"_parent\"><img src=\"https://colab.research.google.com/assets/colab-badge.svg\" alt=\"Open In Colab\"/></a>"
      ]
    },
    {
      "cell_type": "markdown",
      "metadata": {
        "colab_type": "text",
        "id": "kLG2VTrnTvYL"
      },
      "source": [
        "## <font color='#2F4F4F'>Defining the Question</font>"
      ]
    },
    {
      "cell_type": "markdown",
      "metadata": {
        "colab_type": "text",
        "id": "XecOwPNorl2W"
      },
      "source": [
        "### a) Specifying the Data Analysis Question\n",
        "\n",
        "* Main objective is to test whether the ads that the advertising company runs resulted in a significant lift in brand awareness using a light-weight questionnaire."
      ]
    },
    {
      "cell_type": "markdown",
      "metadata": {
        "colab_type": "text",
        "id": "J4wfHZwQrs-t"
      },
      "source": [
        "### b) Methods\n",
        "\n",
        "* A/B testing\n",
        "* Machine Learning"
      ]
    },
    {
      "cell_type": "markdown",
      "metadata": {
        "colab_type": "text",
        "id": "7KMRBJ7zr9HD"
      },
      "source": [
        "### c) Recording the Experimental Design\n",
        "\n",
        "1. Data Analaysis\n",
        "2. Univariate and Bivariate Analysis\n",
        "3. A/B testing using hypothesis testing\n",
        " \n",
        "  - H0:there is no difference in brand awareness between the exposed and control groups in the current case.\n",
        "   \n",
        "  - H1:there is a difference in brand awareness between the exposed and control groups in the current case.\n",
        "\n",
        "4. Machine learning\n",
        "* Three machine learning models will be used to predict whether a user responds yes or no. ie.\n",
        "   * Logistic Regressin\n",
        "   * Decision trees\n",
        "   * XGBoost\n",
        "* I'll also use M.L to identify important features for brand awareness."
      ]
    },
    {
      "cell_type": "markdown",
      "metadata": {
        "colab_type": "text",
        "id": "zSGyg6kWsBUl"
      },
      "source": [
        "### d) Data Relevance\n",
        "* auction_id: the unique id of the online user who has been presented the BIO. In standard terminologies this is called an impression id. The user may see the BIO questionnaire but choose not to respond. In that case both the yes and no columns are zero.\n",
        "* experiment: which group the user belongs to  control or exposed.\n",
        "* date: the date in YYYY-MM-DD format\n",
        "* hour: the hour of the day in HH format.\n",
        "device_make: the name of the type of device the user has e.g. Samsung\n",
        "* platform_os: the id of the OS the user has. \n",
        "* browser: the name of the browser the user uses to see the BIO questionnaire.\n",
        "* yes: 1 if the user chooses the “Yes” radio button for the BIO questionnaire.\n",
        "* no: 1 if the user chooses the “No” radio button for the BIO questionnaire.\n"
      ]
    },
    {
      "cell_type": "markdown",
      "metadata": {
        "colab_type": "text",
        "id": "iUNbvIvnT7ep"
      },
      "source": [
        "## <font color='#2F4F4F'> Data Cleaning & Preparation</font>"
      ]
    },
    {
      "cell_type": "code",
      "metadata": {
        "id": "0mdPO_JOasC1",
        "colab_type": "code",
        "colab": {
          "base_uri": "https://localhost:8080/",
          "height": 72
        },
        "outputId": "e5850475-5be9-4663-b131-6cc6ed737df5"
      },
      "source": [
        "# load libraries\n",
        "import pandas as pd\n",
        "import numpy as np\n",
        "import matplotlib.pyplot as plt\n",
        "import seaborn as sns\n",
        "\n",
        "import math as mt\n",
        "import numpy as np\n",
        "import pandas as pd\n",
        "from scipy.stats import norm\n",
        "\n",
        "%matplotlib inline\n",
        "\n",
        "# to display all columns\n",
        "pd.set_option('display.max.columns', None)\n",
        "\n",
        "# to display the entire contents of a cell\n",
        "pd.set_option('display.max_colwidth', None)"
      ],
      "execution_count": null,
      "outputs": [
        {
          "output_type": "stream",
          "text": [
            "/usr/local/lib/python3.6/dist-packages/statsmodels/tools/_testing.py:19: FutureWarning: pandas.util.testing is deprecated. Use the functions in the public API at pandas.testing instead.\n",
            "  import pandas.util.testing as tm\n"
          ],
          "name": "stderr"
        }
      ]
    },
    {
      "cell_type": "code",
      "metadata": {
        "colab_type": "code",
        "id": "XJn2KjW-WMlG",
        "colab": {
          "base_uri": "https://localhost:8080/",
          "height": 187
        },
        "outputId": "737cf5fe-2128-4e9c-9a51-d9a3569756e1"
      },
      "source": [
        "# load and preview dataset\n",
        "df = pd.read_csv('AdSmartABdata.csv')\n",
        "df.sample(3)"
      ],
      "execution_count": null,
      "outputs": [
        {
          "output_type": "execute_result",
          "data": {
            "text/html": [
              "<div>\n",
              "<style scoped>\n",
              "    .dataframe tbody tr th:only-of-type {\n",
              "        vertical-align: middle;\n",
              "    }\n",
              "\n",
              "    .dataframe tbody tr th {\n",
              "        vertical-align: top;\n",
              "    }\n",
              "\n",
              "    .dataframe thead th {\n",
              "        text-align: right;\n",
              "    }\n",
              "</style>\n",
              "<table border=\"1\" class=\"dataframe\">\n",
              "  <thead>\n",
              "    <tr style=\"text-align: right;\">\n",
              "      <th></th>\n",
              "      <th>auction_id</th>\n",
              "      <th>experiment</th>\n",
              "      <th>date</th>\n",
              "      <th>hour</th>\n",
              "      <th>device_make</th>\n",
              "      <th>platform_os</th>\n",
              "      <th>browser</th>\n",
              "      <th>yes</th>\n",
              "      <th>no</th>\n",
              "    </tr>\n",
              "  </thead>\n",
              "  <tbody>\n",
              "    <tr>\n",
              "      <th>707</th>\n",
              "      <td>168da473-e2ff-4792-a423-27d015d2df64</td>\n",
              "      <td>control</td>\n",
              "      <td>2020-07-05</td>\n",
              "      <td>0</td>\n",
              "      <td>Generic Smartphone</td>\n",
              "      <td>6</td>\n",
              "      <td>Chrome Mobile</td>\n",
              "      <td>0</td>\n",
              "      <td>0</td>\n",
              "    </tr>\n",
              "    <tr>\n",
              "      <th>3509</th>\n",
              "      <td>71872e27-b15c-459b-8aed-44058b87509e</td>\n",
              "      <td>exposed</td>\n",
              "      <td>2020-07-09</td>\n",
              "      <td>18</td>\n",
              "      <td>Generic Smartphone</td>\n",
              "      <td>6</td>\n",
              "      <td>Chrome Mobile</td>\n",
              "      <td>0</td>\n",
              "      <td>0</td>\n",
              "    </tr>\n",
              "    <tr>\n",
              "      <th>2483</th>\n",
              "      <td>506d74e1-e2e4-40ac-ab1c-da19790a62aa</td>\n",
              "      <td>exposed</td>\n",
              "      <td>2020-07-10</td>\n",
              "      <td>16</td>\n",
              "      <td>LDN-L01</td>\n",
              "      <td>6</td>\n",
              "      <td>Chrome Mobile WebView</td>\n",
              "      <td>0</td>\n",
              "      <td>0</td>\n",
              "    </tr>\n",
              "  </tbody>\n",
              "</table>\n",
              "</div>"
            ],
            "text/plain": [
              "                                auction_id experiment        date  hour  \\\n",
              "707   168da473-e2ff-4792-a423-27d015d2df64    control  2020-07-05     0   \n",
              "3509  71872e27-b15c-459b-8aed-44058b87509e    exposed  2020-07-09    18   \n",
              "2483  506d74e1-e2e4-40ac-ab1c-da19790a62aa    exposed  2020-07-10    16   \n",
              "\n",
              "             device_make  platform_os                browser  yes  no  \n",
              "707   Generic Smartphone            6          Chrome Mobile    0   0  \n",
              "3509  Generic Smartphone            6          Chrome Mobile    0   0  \n",
              "2483             LDN-L01            6  Chrome Mobile WebView    0   0  "
            ]
          },
          "metadata": {
            "tags": []
          },
          "execution_count": 3
        }
      ]
    },
    {
      "cell_type": "code",
      "metadata": {
        "id": "T3nO8Pr0asDa",
        "colab_type": "code",
        "colab": {
          "base_uri": "https://localhost:8080/",
          "height": 34
        },
        "outputId": "68275834-9f09-4b4d-b4bb-eb6f78df20a1"
      },
      "source": [
        "# check dataset shape\n",
        "df.shape"
      ],
      "execution_count": null,
      "outputs": [
        {
          "output_type": "execute_result",
          "data": {
            "text/plain": [
              "(8077, 9)"
            ]
          },
          "metadata": {
            "tags": []
          },
          "execution_count": 165
        }
      ]
    },
    {
      "cell_type": "markdown",
      "metadata": {
        "id": "V0L7v6F2asDt",
        "colab_type": "text"
      },
      "source": [
        "Our dataset has 8077 records and 9 variables."
      ]
    },
    {
      "cell_type": "code",
      "metadata": {
        "id": "Pfi3ZA0fa4dZ",
        "colab_type": "code",
        "colab": {
          "base_uri": "https://localhost:8080/",
          "height": 287
        },
        "outputId": "e2ee93cf-0202-4c62-ef2b-adce06d3ff9d"
      },
      "source": [
        "df.describe()"
      ],
      "execution_count": null,
      "outputs": [
        {
          "output_type": "execute_result",
          "data": {
            "text/html": [
              "<div>\n",
              "<style scoped>\n",
              "    .dataframe tbody tr th:only-of-type {\n",
              "        vertical-align: middle;\n",
              "    }\n",
              "\n",
              "    .dataframe tbody tr th {\n",
              "        vertical-align: top;\n",
              "    }\n",
              "\n",
              "    .dataframe thead th {\n",
              "        text-align: right;\n",
              "    }\n",
              "</style>\n",
              "<table border=\"1\" class=\"dataframe\">\n",
              "  <thead>\n",
              "    <tr style=\"text-align: right;\">\n",
              "      <th></th>\n",
              "      <th>hour</th>\n",
              "      <th>platform_os</th>\n",
              "      <th>yes</th>\n",
              "      <th>no</th>\n",
              "    </tr>\n",
              "  </thead>\n",
              "  <tbody>\n",
              "    <tr>\n",
              "      <th>count</th>\n",
              "      <td>8077.000000</td>\n",
              "      <td>8077.000000</td>\n",
              "      <td>8077.000000</td>\n",
              "      <td>8077.000000</td>\n",
              "    </tr>\n",
              "    <tr>\n",
              "      <th>mean</th>\n",
              "      <td>11.615080</td>\n",
              "      <td>5.947134</td>\n",
              "      <td>0.070818</td>\n",
              "      <td>0.083075</td>\n",
              "    </tr>\n",
              "    <tr>\n",
              "      <th>std</th>\n",
              "      <td>5.734879</td>\n",
              "      <td>0.224333</td>\n",
              "      <td>0.256537</td>\n",
              "      <td>0.276013</td>\n",
              "    </tr>\n",
              "    <tr>\n",
              "      <th>min</th>\n",
              "      <td>0.000000</td>\n",
              "      <td>5.000000</td>\n",
              "      <td>0.000000</td>\n",
              "      <td>0.000000</td>\n",
              "    </tr>\n",
              "    <tr>\n",
              "      <th>25%</th>\n",
              "      <td>7.000000</td>\n",
              "      <td>6.000000</td>\n",
              "      <td>0.000000</td>\n",
              "      <td>0.000000</td>\n",
              "    </tr>\n",
              "    <tr>\n",
              "      <th>50%</th>\n",
              "      <td>13.000000</td>\n",
              "      <td>6.000000</td>\n",
              "      <td>0.000000</td>\n",
              "      <td>0.000000</td>\n",
              "    </tr>\n",
              "    <tr>\n",
              "      <th>75%</th>\n",
              "      <td>15.000000</td>\n",
              "      <td>6.000000</td>\n",
              "      <td>0.000000</td>\n",
              "      <td>0.000000</td>\n",
              "    </tr>\n",
              "    <tr>\n",
              "      <th>max</th>\n",
              "      <td>23.000000</td>\n",
              "      <td>7.000000</td>\n",
              "      <td>1.000000</td>\n",
              "      <td>1.000000</td>\n",
              "    </tr>\n",
              "  </tbody>\n",
              "</table>\n",
              "</div>"
            ],
            "text/plain": [
              "              hour  platform_os          yes           no\n",
              "count  8077.000000  8077.000000  8077.000000  8077.000000\n",
              "mean     11.615080     5.947134     0.070818     0.083075\n",
              "std       5.734879     0.224333     0.256537     0.276013\n",
              "min       0.000000     5.000000     0.000000     0.000000\n",
              "25%       7.000000     6.000000     0.000000     0.000000\n",
              "50%      13.000000     6.000000     0.000000     0.000000\n",
              "75%      15.000000     6.000000     0.000000     0.000000\n",
              "max      23.000000     7.000000     1.000000     1.000000"
            ]
          },
          "metadata": {
            "tags": []
          },
          "execution_count": 166
        }
      ]
    },
    {
      "cell_type": "markdown",
      "metadata": {
        "id": "wn7g2utptepO",
        "colab_type": "text"
      },
      "source": [
        ">> This shows a brief description of the numerical variables\n",
        "\n"
      ]
    },
    {
      "cell_type": "code",
      "metadata": {
        "id": "r4cDp15Ea_My",
        "colab_type": "code",
        "colab": {
          "base_uri": "https://localhost:8080/",
          "height": 301
        },
        "outputId": "36280772-589f-4eb1-cb96-e4da425bbe92"
      },
      "source": [
        "df.info()"
      ],
      "execution_count": null,
      "outputs": [
        {
          "output_type": "stream",
          "text": [
            "<class 'pandas.core.frame.DataFrame'>\n",
            "RangeIndex: 8077 entries, 0 to 8076\n",
            "Data columns (total 9 columns):\n",
            " #   Column       Non-Null Count  Dtype \n",
            "---  ------       --------------  ----- \n",
            " 0   auction_id   8077 non-null   object\n",
            " 1   experiment   8077 non-null   object\n",
            " 2   date         8077 non-null   object\n",
            " 3   hour         8077 non-null   int64 \n",
            " 4   device_make  8077 non-null   object\n",
            " 5   platform_os  8077 non-null   int64 \n",
            " 6   browser      8077 non-null   object\n",
            " 7   yes          8077 non-null   int64 \n",
            " 8   no           8077 non-null   int64 \n",
            "dtypes: int64(4), object(5)\n",
            "memory usage: 568.0+ KB\n"
          ],
          "name": "stdout"
        }
      ]
    },
    {
      "cell_type": "markdown",
      "metadata": {
        "id": "6bFoOxEcts_B",
        "colab_type": "text"
      },
      "source": [
        ">> From the above output,you can see the data type of each column.Also note that there are no missing values in our dataframe.\n"
      ]
    },
    {
      "cell_type": "code",
      "metadata": {
        "id": "7tOe_SdmasEd",
        "colab_type": "code",
        "colab": {
          "base_uri": "https://localhost:8080/",
          "height": 194
        },
        "outputId": "2a68dc92-91fa-43b9-9669-b13fe04a9509"
      },
      "source": [
        "# check for missing values\n",
        "df.isna().sum()"
      ],
      "execution_count": null,
      "outputs": [
        {
          "output_type": "execute_result",
          "data": {
            "text/plain": [
              "auction_id     0\n",
              "experiment     0\n",
              "date           0\n",
              "hour           0\n",
              "device_make    0\n",
              "platform_os    0\n",
              "browser        0\n",
              "yes            0\n",
              "no             0\n",
              "dtype: int64"
            ]
          },
          "metadata": {
            "tags": []
          },
          "execution_count": 6
        }
      ]
    },
    {
      "cell_type": "markdown",
      "metadata": {
        "id": "ik9r--RCb9Fd",
        "colab_type": "text"
      },
      "source": [
        ">> Clearly,there are no missing values"
      ]
    },
    {
      "cell_type": "code",
      "metadata": {
        "id": "t8WGzIueasEB",
        "colab_type": "code",
        "colab": {
          "base_uri": "https://localhost:8080/",
          "height": 194
        },
        "outputId": "5c6c59f5-c516-419c-96dd-d77613b3d7f8"
      },
      "source": [
        "# preview variable datatypes\n",
        "df.dtypes"
      ],
      "execution_count": null,
      "outputs": [
        {
          "output_type": "execute_result",
          "data": {
            "text/plain": [
              "auction_id     object\n",
              "experiment     object\n",
              "date           object\n",
              "hour            int64\n",
              "device_make    object\n",
              "platform_os     int64\n",
              "browser        object\n",
              "yes             int64\n",
              "no              int64\n",
              "dtype: object"
            ]
          },
          "metadata": {
            "tags": []
          },
          "execution_count": 4
        }
      ]
    },
    {
      "cell_type": "markdown",
      "metadata": {
        "id": "O1HvAEkKbJxW",
        "colab_type": "text"
      },
      "source": [
        ">> Categorical Variables\n",
        " * experiment\n",
        " * device_make\n",
        " * platform_os\n",
        " * browser\n",
        " \n",
        " >> Numerical variables\n",
        "  * date\n",
        "  * hour\n",
        "  * yes\n",
        "  * no"
      ]
    },
    {
      "cell_type": "code",
      "metadata": {
        "id": "Lncux1rmasEW",
        "colab_type": "code",
        "colab": {
          "base_uri": "https://localhost:8080/",
          "height": 34
        },
        "outputId": "3c656ad5-519b-4abd-c765-6fe8005c0035"
      },
      "source": [
        "# check for duplicates\n",
        "df.duplicated().sum()"
      ],
      "execution_count": null,
      "outputs": [
        {
          "output_type": "execute_result",
          "data": {
            "text/plain": [
              "0"
            ]
          },
          "metadata": {
            "tags": []
          },
          "execution_count": 5
        }
      ]
    },
    {
      "cell_type": "markdown",
      "metadata": {
        "id": "VUq1Soc9asEh",
        "colab_type": "text"
      },
      "source": [
        "We will look at the unique values in each variable just to be safe."
      ]
    },
    {
      "cell_type": "code",
      "metadata": {
        "id": "Sc73gdLSasEi",
        "colab_type": "code",
        "colab": {
          "base_uri": "https://localhost:8080/",
          "height": 1000
        },
        "outputId": "b16f8f2a-7e6c-4604-f0a9-f9cb6a0e9af7"
      },
      "source": [
        "columns = df.columns\n",
        "\n",
        "for col in columns:\n",
        "    print(\"Variable:\", col)\n",
        "    print(\"Number of unique values:\", df[col].nunique())\n",
        "    print(df[col].unique())\n",
        "    print()"
      ],
      "execution_count": null,
      "outputs": [
        {
          "output_type": "stream",
          "text": [
            "Variable: auction_id\n",
            "Number of unique values: 8077\n",
            "['0008ef63-77a7-448b-bd1e-075f42c55e39'\n",
            " '000eabc5-17ce-4137-8efe-44734d914446'\n",
            " '0016d14a-ae18-4a02-a204-6ba53b52f2ed' ...\n",
            " 'ffeaa0f1-1d72-4ba9-afb4-314b3b00a7c7'\n",
            " 'ffeeed62-3f7c-4a6e-8ba7-95d303d40969'\n",
            " 'fffbb9ff-568a-41a5-a0c3-6866592f80d8']\n",
            "\n",
            "Variable: experiment\n",
            "Number of unique values: 2\n",
            "['exposed' 'control']\n",
            "\n",
            "Variable: date\n",
            "Number of unique values: 8\n",
            "['2020-07-10' '2020-07-07' '2020-07-05' '2020-07-03' '2020-07-09'\n",
            " '2020-07-04' '2020-07-06' '2020-07-08']\n",
            "\n",
            "Variable: hour\n",
            "Number of unique values: 24\n",
            "[ 8 10  2 15  5  0 14 13  6 16  7 20  4 17  1 19 18  3 23 12  9 11 21 22]\n",
            "\n",
            "Variable: device_make\n",
            "Number of unique values: 270\n",
            "['Generic Smartphone' 'E5823' 'Samsung SM-A705FN' 'Samsung SM-G960F'\n",
            " 'Samsung SM-G973F' 'iPhone' 'Samsung SM-G935F' 'HTC One' 'LG-$2'\n",
            " 'Samsung SM-A202F' 'XT1032' 'COL-L29' 'Samsung SM-N960U1'\n",
            " 'Samsung SM-A715F' 'Samsung SM-G930F' 'I3312' 'Samsung SM-G950F'\n",
            " 'FIG-LX1' 'Samsung SM-G920F' 'MRD-LX1' 'Samsung SM-N950F' 'Moto $2'\n",
            " 'Samsung SM-G970F' 'Samsung GT-I9505' 'Samsung SM-G981B' 'Pixel 3a'\n",
            " 'Samsung SM-J600FN' 'Samsung SM-A105FN' 'OnePlus ONEPLUS A3003' 'POT-LX1'\n",
            " 'Samsung SM-G975F' 'Samsung SM-J330FN' 'Samsung SM-G770F' 'H3311'\n",
            " 'MAR-LX1A' 'HTC One $2' 'Samsung SM-G965F' 'ELE-L09' 'Samsung SM-J415FN'\n",
            " 'Samsung SM-G900F' 'Lenovo A1010a20' 'CLT-L09' 'HTC Desire $2'\n",
            " 'Samsung SM-G980F' 'Samsung SM-G955F' 'Samsung SM-N960F' 'Nexus 5'\n",
            " 'Samsung SM-J260F' 'HTC U11' 'Samsung SM-A405FN' 'Samsung SM-A600FN'\n",
            " 'ANE-LX1' 'VOG-L09' 'Samsung SM-G986B' 'XiaoMi Redmi Note 4' 'ELE-L29'\n",
            " 'Samsung $2' 'Samsung SM-A320FL' 'OnePlus ONEPLUS A5000'\n",
            " 'Samsung SM-A505FN' 'Nokia undefined$2$3' 'Samsung SM-A750FN'\n",
            " 'Samsung SM-A310F' 'Samsung SM-A520F' 'OnePlus ONEPLUS A5010'\n",
            " 'Samsung SM-N975F' 'Pixel 4' 'LYA-L09' 'Samsung SM-G988B' 'VOG-L29'\n",
            " 'Samsung SM-N976B' '5008Y_EEA' 'CLT-L29' 'PRA-LX1' 'Samsung SM-J320FN'\n",
            " 'Samsung SM-J530F' 'Samsung SM-A530F' 'BKL-L09' 'Pixel 3'\n",
            " 'Samsung SM-A515F' 'Nokia$2$3' 'F8331' 'Samsung SM-A300FU'\n",
            " 'Samsung SM-G390F' 'VFD 710' 'XiaoMi Redmi 6' 'Samsung SM-G901F'\n",
            " 'OnePlus ONEPLUS A6003' 'Samsung SM-A500FU' 'Samsung SM-G900V' 'SNE-LX1'\n",
            " 'STF-L09' 'HTC 10' 'Samsung SM-J510FN' 'Samsung SM-J610FN' 'S8'\n",
            " 'XiaoMi Redmi Note 7' 'Samsung SM-G800F' 'EML-L09' 'Samsung SM-N970F'\n",
            " 'Huawei Browser' 'OnePlus ONEPLUS A6013' 'Samsung GT-I8200N'\n",
            " 'Samsung SM-A920F' 'NEM-L51' 'Samsung SM-G570F' 'Samsung SM-G925F'\n",
            " 'VFD 820' 'Asus I01WD' 'HUAWEI $2' 'OnePlus ONEPLUS A6000'\n",
            " 'Samsung SM-J710F' 'Samsung SM-G928F' 'XiaoMi Redmi 8' 'H3113' 'DUB-LX1'\n",
            " 'Pixel 2' 'Samsung GT-I9195' 'WAS-LX1A' 'F5321' 'XiaoMi MI 8 Pro'\n",
            " 'EVA-L09' 'Samsung SM-J730F' 'LYA-L29' 'VFD 500' 'YAL-L21' 'HTC U12+'\n",
            " 'Samsung SM-J330G' 'XiaoMi MI 8' 'Samsung undefined$2' 'G3311' 'G3121'\n",
            " 'DUA-L22' 'Samsung SM-G950U1' 'Samsung SM-G850F' 'Samsung GT-I9505 '\n",
            " 'Samsung SM-A107F' 'BBB100-2' 'VFD 610' 'XiaoMi Redmi 6A' '5099Y'\n",
            " 'Samsung SM-F907B' 'Samsung SM-N9500' 'D5503' 'Samsung SM-G977B'\n",
            " 'Lumia 950' 'Samsung GT-P5210 ' 'COR-L29' 'LDN-L01' 'Samsung SM-J710MN'\n",
            " 'Lenovo A7020a48' 'Samsung SM-G965U1' 'Samsung SM-N910F' 'CUBOT_X18_Plus'\n",
            " 'Samsung SM-A507FN' 'BLA-L09' 'Samsung SM-G900T' 'VTR-L09'\n",
            " 'Samsung SM-J500FN' 'moto e5 play' 'A0001' 'PCT-L29' 'Samsung SM-G925I'\n",
            " 'HTC M10h' 'Vodafone $2' 'Samsung SM-G6100' 'D5803' 'Samsung SM-A505F'\n",
            " 'Samsung SM-G986U1' 'Samsung SM-N9750' 'D6603' 'VFD 700' '6039Y'\n",
            " 'Samsung SM-N920I' 'Samsung SM-G950U' 'XiaoMi Redmi Note 8T'\n",
            " 'Samsung SM-G935U' 'Samsung SM-A105G' 'OnePlus ONE A2003'\n",
            " 'Samsung GT-I9195I' 'C2105' 'ALE-L21' 'Samsung SM-G930L' 'XT1580'\n",
            " 'Samsung SM-G973U' 'XiaoMi Redmi Note 8 Pro' 'Samsung SM-A015M'\n",
            " 'Samsung SM-G388F' 'Samsung SM-N976V' 'VFD 720' 'Samsung SM-G930U'\n",
            " 'EVR-N29' 'XiaoMi Redmi Note 8' 'F3111' 'EML-L29' 'Samsung SM-G610F'\n",
            " 'Samsung SM-A305F' 'Samsung SM-J701F' 'Samsung SM-A510F' 'IMO $2'\n",
            " 'Pixel XL' 'Samsung SM-A415F' 'Samsung SM-A217F' 'Samsung SM-A908B'\n",
            " 'BBF100-1' 'HTC U11 $2' 'E6653' 'Samsung SM-G903F' 'VKY-L09'\n",
            " 'Samsung SM-A207F' 'XiaoMi MI MAX 3' 'F3311' 'Lenovo P2a42'\n",
            " 'Samsung SM-A205G' 'Samsung SM-A605F' 'VF-795' 'VF-895N'\n",
            " 'Samsung SM-A605G' 'D6503' 'Armor_3' 'FRD-L09' 'TA-1033' 'Doro 8030'\n",
            " 'moto e5 plus' 'Samsung SM-J250F' 'Samsung SM-C9000' 'Moto$2'\n",
            " 'Samsung SM-A105F' 'ATU-L11' 'Samsung SM-N770F' 'TA-1020' 'DLI-L22'\n",
            " 'Samsung SM-A805F' 'XiaoMi Redmi Note 6 Pro' 'Samsung SM-G955U'\n",
            " 'Samsung GT-I9300' 'C6903' 'RNE-L21' 'Samsung SM-G361F' 'G3221'\n",
            " 'Samsung SM-G930T' 'Samsung SM-J510GN' 'Samsung SM-A700F' 'CPH1851' 'X13'\n",
            " 'OnePlus ONE E1003' 'Samsung SM-J810F' 'TA-1024' 'OnePlus ONEPLUS A3000'\n",
            " 'XiaoMi Redmi 3S' 'MHA-L09' 'XiaoMi MI 6' 'K7' 'Swift 2 Plus'\n",
            " 'X4_Soul_Infinity_Z' 'Samsung SM-G960U1' 'Wileyfox Swift'\n",
            " 'Samsung SM-J330F' 'PLK-L01' 'Samsung SM-A750GN' 'Samsung SM-G930V'\n",
            " 'XiaoMi Redmi 5 Plus' 'Samsung SM-J610G' 'VCE-L22' 'Samsung SM-G960U'\n",
            " 'Samsung SM-G9730' 'Samsung SM-G955U1' 'XiaoMi Redmi S2'\n",
            " 'Samsung SM-A205F' 'XiaoMi Redmi Note 5']\n",
            "\n",
            "Variable: platform_os\n",
            "Number of unique values: 3\n",
            "[6 5 7]\n",
            "\n",
            "Variable: browser\n",
            "Number of unique values: 15\n",
            "['Chrome Mobile' 'Chrome Mobile WebView' 'Facebook' 'Mobile Safari'\n",
            " 'Chrome Mobile iOS' 'Samsung Internet' 'Mobile Safari UI/WKWebView'\n",
            " 'Chrome' 'Opera Mini' 'Edge Mobile' 'Android' 'Pinterest' 'Opera Mobile'\n",
            " 'Firefox Mobile' 'Puffin']\n",
            "\n",
            "Variable: yes\n",
            "Number of unique values: 2\n",
            "[0 1]\n",
            "\n",
            "Variable: no\n",
            "Number of unique values: 2\n",
            "[0 1]\n",
            "\n"
          ],
          "name": "stdout"
        }
      ]
    },
    {
      "cell_type": "markdown",
      "metadata": {
        "id": "a5ledN_wuDH-",
        "colab_type": "text"
      },
      "source": [
        ">>Now we have a brief overview of how our data looks like but let's make some visulizations to see distributions etc."
      ]
    },
    {
      "cell_type": "markdown",
      "metadata": {
        "id": "qQWHaCeQcZT6",
        "colab_type": "text"
      },
      "source": [
        "## <font color='#2F4F4F'> Univariate  And Bivariate Analysis</font>"
      ]
    },
    {
      "cell_type": "markdown",
      "metadata": {
        "id": "_G78AdnnvQMn",
        "colab_type": "text"
      },
      "source": [
        "**EXPERIMENT**\n",
        "\n",
        "\n"
      ]
    },
    {
      "cell_type": "code",
      "metadata": {
        "id": "GhyOhkV2cYx-",
        "colab_type": "code",
        "colab": {
          "base_uri": "https://localhost:8080/",
          "height": 314
        },
        "outputId": "b74a8054-ee9a-45b2-ab8f-3b3b0321d665"
      },
      "source": [
        "sns.countplot(df['experiment'])\n",
        "plt.title('No of total users in groups for the experiment',fontsize=15)"
      ],
      "execution_count": null,
      "outputs": [
        {
          "output_type": "execute_result",
          "data": {
            "text/plain": [
              "Text(0.5, 1.0, 'No of total users in groups for the experiment')"
            ]
          },
          "metadata": {
            "tags": []
          },
          "execution_count": 187
        },
        {
          "output_type": "display_data",
          "data": {
            "image/png": "[encoded data removed]",
            "text/plain": [
              "<Figure size 432x288 with 1 Axes>"
            ]
          },
          "metadata": {
            "tags": [],
            "needs_background": "light"
          }
        }
      ]
    },
    {
      "cell_type": "code",
      "metadata": {
        "id": "r_2FDdrCasGP",
        "colab_type": "code",
        "colab": {
          "base_uri": "https://localhost:8080/",
          "height": 373
        },
        "outputId": "1042a81e-8421-499a-e0d7-db66e8bd555c"
      },
      "source": [
        "\n",
        "\n",
        "plt.figure(figsize = (6, 6))\n",
        "df.experiment.value_counts().plot(kind = 'pie', autopct = '%1.1f%%')\n",
        "plt.title('Pie Chart of Experiment')\n",
        "plt.show()"
      ],
      "execution_count": null,
      "outputs": [
        {
          "output_type": "display_data",
          "data": {
            "image/png": "[encoded data removed]",
            "text/plain": [
              "<Figure size 432x432 with 1 Axes>"
            ]
          },
          "metadata": {
            "tags": []
          }
        }
      ]
    },
    {
      "cell_type": "code",
      "metadata": {
        "id": "CBHZ3t5C55DI",
        "colab_type": "code",
        "colab": {
          "base_uri": "https://localhost:8080/",
          "height": 70
        },
        "outputId": "55aa1adb-296b-4e97-cf43-cb7145403701"
      },
      "source": [
        "df.experiment.value_counts()"
      ],
      "execution_count": null,
      "outputs": [
        {
          "output_type": "execute_result",
          "data": {
            "text/plain": [
              "control    4071\n",
              "exposed    4006\n",
              "Name: experiment, dtype: int64"
            ]
          },
          "metadata": {
            "tags": []
          },
          "execution_count": 168
        }
      ]
    },
    {
      "cell_type": "markdown",
      "metadata": {
        "id": "ihYOVNC-c6bn",
        "colab_type": "text"
      },
      "source": [
        ">> Distribution of numbers of users in exposed and control group are almost equal,though control has slightly more users"
      ]
    },
    {
      "cell_type": "code",
      "metadata": {
        "id": "wGdx-Z4w09e8",
        "colab_type": "code",
        "colab": {
          "base_uri": "https://localhost:8080/",
          "height": 314
        },
        "outputId": "d8b1b315-ee68-407f-b724-217a345dce2a"
      },
      "source": [
        "sns.countplot(x='experiment',hue='yes',data=df)\n",
        "plt.title('Number of users who responded(yes)',fontsize=15)"
      ],
      "execution_count": null,
      "outputs": [
        {
          "output_type": "execute_result",
          "data": {
            "text/plain": [
              "Text(0.5, 1.0, 'Number of users who responded(yes)')"
            ]
          },
          "metadata": {
            "tags": []
          },
          "execution_count": 185
        },
        {
          "output_type": "display_data",
          "data": {
            "image/png": "[encoded data removed]",
            "text/plain": [
              "<Figure size 432x288 with 1 Axes>"
            ]
          },
          "metadata": {
            "tags": [],
            "needs_background": "light"
          }
        }
      ]
    },
    {
      "cell_type": "markdown",
      "metadata": {
        "id": "iWS7k1z-vdHK",
        "colab_type": "text"
      },
      "source": [
        ">> The number of users who responded 'yes' in both groups is quite low."
      ]
    },
    {
      "cell_type": "code",
      "metadata": {
        "id": "1VaLXbWreC_6",
        "colab_type": "code",
        "colab": {
          "base_uri": "https://localhost:8080/",
          "height": 314
        },
        "outputId": "f258b94a-4bba-4f06-f9fe-5b77aa662c65"
      },
      "source": [
        "sns.countplot(x='experiment',hue='no',data=df)\n",
        "plt.title('Number of users who responded(no)',fontsize=15)"
      ],
      "execution_count": null,
      "outputs": [
        {
          "output_type": "execute_result",
          "data": {
            "text/plain": [
              "Text(0.5, 1.0, 'Number of users who responded(no)')"
            ]
          },
          "metadata": {
            "tags": []
          },
          "execution_count": 184
        },
        {
          "output_type": "display_data",
          "data": {
            "image/png": "[encoded data removed]",
            "text/plain": [
              "<Figure size 432x288 with 1 Axes>"
            ]
          },
          "metadata": {
            "tags": [],
            "needs_background": "light"
          }
        }
      ]
    },
    {
      "cell_type": "markdown",
      "metadata": {
        "id": "l4YcM6ELeGeC",
        "colab_type": "text"
      },
      "source": [
        ">> The number of users who responded 'no' in both groups is quite low."
      ]
    },
    {
      "cell_type": "markdown",
      "metadata": {
        "id": "_v4dGBwov9Ng",
        "colab_type": "text"
      },
      "source": [
        "**PLATFORM_OS**"
      ]
    },
    {
      "cell_type": "code",
      "metadata": {
        "id": "fmUNCIeL8Xh5",
        "colab_type": "code",
        "colab": {
          "base_uri": "https://localhost:8080/",
          "height": 314
        },
        "outputId": "beb477be-778d-4db4-95ee-dee4a7d29fd1"
      },
      "source": [
        "sns.countplot(x='platform_os',hue='experiment',data=df)\n",
        "plt.xlabel('Platform',fontsize=11)\n",
        "plt.ylabel('Platform Operating System',fontsize=11)\n",
        "plt.title('Number of users using different Platform OS',fontsize=15)"
      ],
      "execution_count": null,
      "outputs": [
        {
          "output_type": "execute_result",
          "data": {
            "text/plain": [
              "Text(0.5, 1.0, 'Number of users using different Platform OS')"
            ]
          },
          "metadata": {
            "tags": []
          },
          "execution_count": 3
        },
        {
          "output_type": "display_data",
          "data": {
            "image/png": "[encoded data removed]",
            "text/plain": [
              "<Figure size 432x288 with 1 Axes>"
            ]
          },
          "metadata": {
            "tags": [],
            "needs_background": "light"
          }
        }
      ]
    },
    {
      "cell_type": "code",
      "metadata": {
        "id": "jrR4V7QT8lll",
        "colab_type": "code",
        "colab": {
          "base_uri": "https://localhost:8080/",
          "height": 87
        },
        "outputId": "78ed908f-ac0c-4217-a52b-394ccc4e5d7b"
      },
      "source": [
        "df.platform_os.value_counts()"
      ],
      "execution_count": null,
      "outputs": [
        {
          "output_type": "execute_result",
          "data": {
            "text/plain": [
              "6    7648\n",
              "5     428\n",
              "7       1\n",
              "Name: platform_os, dtype: int64"
            ]
          },
          "metadata": {
            "tags": []
          },
          "execution_count": 79
        }
      ]
    },
    {
      "cell_type": "markdown",
      "metadata": {
        "id": "eA1gE7M5eTat",
        "colab_type": "text"
      },
      "source": [
        ">> There are three different platform operating systems (5,6 and 7).Most of the people who engaged in this experiment were using Operating system platform 6."
      ]
    },
    {
      "cell_type": "markdown",
      "metadata": {
        "id": "gpXJmxC3wgdg",
        "colab_type": "text"
      },
      "source": [
        "**HOUR**"
      ]
    },
    {
      "cell_type": "code",
      "metadata": {
        "id": "Nw1ntRT79EsW",
        "colab_type": "code",
        "colab": {
          "base_uri": "https://localhost:8080/",
          "height": 314
        },
        "outputId": "5b2a3f9f-addc-4696-ca90-c65487d896a7"
      },
      "source": [
        "df['hour'].hist()\n",
        "plt.xlabel('Hours',fontsize=10)\n",
        "plt.ylabel('Number of users',fontsize=10)\n",
        "plt.title('Distribution of users in different hours',fontsize=15)"
      ],
      "execution_count": null,
      "outputs": [
        {
          "output_type": "execute_result",
          "data": {
            "text/plain": [
              "Text(0.5, 1.0, 'Distribution of users in different hours')"
            ]
          },
          "metadata": {
            "tags": []
          },
          "execution_count": 181
        },
        {
          "output_type": "display_data",
          "data": {
            "image/png": "[encoded data removed]",
            "text/plain": [
              "<Figure size 432x288 with 1 Axes>"
            ]
          },
          "metadata": {
            "tags": [],
            "needs_background": "light"
          }
        }
      ]
    },
    {
      "cell_type": "markdown",
      "metadata": {
        "id": "tyHsNSLrfDQ6",
        "colab_type": "text"
      },
      "source": [
        ">> Most people are active around the 15th hour ie 3pm"
      ]
    },
    {
      "cell_type": "markdown",
      "metadata": {
        "id": "TRvZ1SW7wsZ9",
        "colab_type": "text"
      },
      "source": [
        "**BROWSER**"
      ]
    },
    {
      "cell_type": "code",
      "metadata": {
        "id": "23oF7actfVb0",
        "colab_type": "code",
        "colab": {
          "base_uri": "https://localhost:8080/",
          "height": 301
        },
        "outputId": "f1d998c2-23f7-40d5-d104-f54ae50dec71"
      },
      "source": [
        "df.browser.value_counts()"
      ],
      "execution_count": null,
      "outputs": [
        {
          "output_type": "execute_result",
          "data": {
            "text/plain": [
              "Chrome Mobile                 4554\n",
              "Chrome Mobile WebView         1489\n",
              "Samsung Internet               824\n",
              "Facebook                       764\n",
              "Mobile Safari                  337\n",
              "Chrome Mobile iOS               51\n",
              "Mobile Safari UI/WKWebView      44\n",
              "Chrome                           3\n",
              "Pinterest                        3\n",
              "Opera Mobile                     3\n",
              "Android                          1\n",
              "Puffin                           1\n",
              "Firefox Mobile                   1\n",
              "Edge Mobile                      1\n",
              "Opera Mini                       1\n",
              "Name: browser, dtype: int64"
            ]
          },
          "metadata": {
            "tags": []
          },
          "execution_count": 170
        }
      ]
    },
    {
      "cell_type": "code",
      "metadata": {
        "id": "fhwG9PXBfran",
        "colab_type": "code",
        "colab": {
          "base_uri": "https://localhost:8080/",
          "height": 664
        },
        "outputId": "066f0a22-9c22-4b7e-a006-f9624c888302"
      },
      "source": [
        "fig, ax = plt.subplots(1,1, figsize=(20, 9))\n",
        "sns.countplot(x='browser',hue='experiment',data=df)\n",
        "plt.xticks(rotation=30)\n",
        "plt.xlabel('Browser',fontsize=15)\n",
        "plt.ylabel('Count',fontsize=15)\n",
        "plt.title('Top Browsers for each group in expeiment',fontsize=20)\n"
      ],
      "execution_count": null,
      "outputs": [
        {
          "output_type": "execute_result",
          "data": {
            "text/plain": [
              "Text(0.5, 1.0, 'Top Browsers for each group in expeiment')"
            ]
          },
          "metadata": {
            "tags": []
          },
          "execution_count": 178
        },
        {
          "output_type": "display_data",
          "data": {
            "image/png": "[encoded data removed]",
            "text/plain": [
              "<Figure size 1440x648 with 1 Axes>"
            ]
          },
          "metadata": {
            "tags": [],
            "needs_background": "light"
          }
        }
      ]
    },
    {
      "cell_type": "code",
      "metadata": {
        "id": "7NK_OI7y1qDX",
        "colab_type": "code",
        "colab": {
          "base_uri": "https://localhost:8080/",
          "height": 684
        },
        "outputId": "14e813bb-d5af-4d7a-d5da-c75f5c6e00b4"
      },
      "source": [
        "fig, ax = plt.subplots(1,1, figsize=(20, 9))\n",
        "sns.countplot(df['browser'])\n",
        "plt.xticks(rotation=40)\n",
        "plt.xlabel('Browser',fontsize=15)\n",
        "plt.ylabel('Count',fontsize=15)\n",
        "plt.title('Top Browsers used in experiment',fontsize=20)"
      ],
      "execution_count": null,
      "outputs": [
        {
          "output_type": "execute_result",
          "data": {
            "text/plain": [
              "Text(0.5, 1.0, 'Top Browsers used in experiment')"
            ]
          },
          "metadata": {
            "tags": []
          },
          "execution_count": 188
        },
        {
          "output_type": "display_data",
          "data": {
            "image/png": "[encoded data removed]",
            "text/plain": [
              "<Figure size 1440x648 with 1 Axes>"
            ]
          },
          "metadata": {
            "tags": [],
            "needs_background": "light"
          }
        }
      ]
    },
    {
      "cell_type": "markdown",
      "metadata": {
        "id": "-FBt1Zsp1CWP",
        "colab_type": "text"
      },
      "source": [
        ">> Top three used browsers are Chrome Browser,Chrom Mobile Webview and others responded via Facebook(supposing the questionnaire was posted there).Therefore Facebook is a good medium to promote brands."
      ]
    },
    {
      "cell_type": "markdown",
      "metadata": {
        "id": "wR4pvYbQ05Aa",
        "colab_type": "text"
      },
      "source": [
        "**DEVICE_MAKE**"
      ]
    },
    {
      "cell_type": "code",
      "metadata": {
        "id": "MDujio-NtEUy",
        "colab_type": "code",
        "colab": {
          "base_uri": "https://localhost:8080/",
          "height": 380
        },
        "outputId": "b10d9b99-4bc5-4d0d-b1b7-16c88b5e4f6d"
      },
      "source": [
        "df.device_make.value_counts().head(10).plot(kind='bar')\n"
      ],
      "execution_count": null,
      "outputs": [
        {
          "output_type": "execute_result",
          "data": {
            "text/plain": [
              "<matplotlib.axes._subplots.AxesSubplot at 0x7f4e06a53e48>"
            ]
          },
          "metadata": {
            "tags": []
          },
          "execution_count": 192
        },
        {
          "output_type": "display_data",
          "data": {
            "image/png": "[encoded data removed]",
            "text/plain": [
              "<Figure size 432x288 with 1 Axes>"
            ]
          },
          "metadata": {
            "tags": [],
            "needs_background": "light"
          }
        }
      ]
    },
    {
      "cell_type": "markdown",
      "metadata": {
        "id": "Y-Ksr9ojw0IN",
        "colab_type": "text"
      },
      "source": [
        ">> The above plot shows different samsung device makes are distributed all over.Let's group them into the main brand for better visualization on the top main brands"
      ]
    },
    {
      "cell_type": "code",
      "metadata": {
        "id": "oB4zeeaMEPFn",
        "colab_type": "code",
        "colab": {
          "base_uri": "https://localhost:8080/",
          "height": 137
        },
        "outputId": "27a7d5c4-70cf-4323-b751-7d5b58919324"
      },
      "source": [
        "df.head(3)"
      ],
      "execution_count": null,
      "outputs": [
        {
          "output_type": "execute_result",
          "data": {
            "text/html": [
              "<div>\n",
              "<style scoped>\n",
              "    .dataframe tbody tr th:only-of-type {\n",
              "        vertical-align: middle;\n",
              "    }\n",
              "\n",
              "    .dataframe tbody tr th {\n",
              "        vertical-align: top;\n",
              "    }\n",
              "\n",
              "    .dataframe thead th {\n",
              "        text-align: right;\n",
              "    }\n",
              "</style>\n",
              "<table border=\"1\" class=\"dataframe\">\n",
              "  <thead>\n",
              "    <tr style=\"text-align: right;\">\n",
              "      <th></th>\n",
              "      <th>auction_id</th>\n",
              "      <th>experiment</th>\n",
              "      <th>date</th>\n",
              "      <th>hour</th>\n",
              "      <th>device_make</th>\n",
              "      <th>platform_os</th>\n",
              "      <th>browser</th>\n",
              "      <th>yes</th>\n",
              "      <th>no</th>\n",
              "    </tr>\n",
              "  </thead>\n",
              "  <tbody>\n",
              "    <tr>\n",
              "      <th>0</th>\n",
              "      <td>0008ef63-77a7-448b-bd1e-075f42c55e39</td>\n",
              "      <td>exposed</td>\n",
              "      <td>2020-07-10</td>\n",
              "      <td>8</td>\n",
              "      <td>Generic Smartphone</td>\n",
              "      <td>6</td>\n",
              "      <td>Chrome Mobile</td>\n",
              "      <td>0</td>\n",
              "      <td>0</td>\n",
              "    </tr>\n",
              "    <tr>\n",
              "      <th>1</th>\n",
              "      <td>000eabc5-17ce-4137-8efe-44734d914446</td>\n",
              "      <td>exposed</td>\n",
              "      <td>2020-07-07</td>\n",
              "      <td>10</td>\n",
              "      <td>Generic Smartphone</td>\n",
              "      <td>6</td>\n",
              "      <td>Chrome Mobile</td>\n",
              "      <td>0</td>\n",
              "      <td>0</td>\n",
              "    </tr>\n",
              "    <tr>\n",
              "      <th>2</th>\n",
              "      <td>0016d14a-ae18-4a02-a204-6ba53b52f2ed</td>\n",
              "      <td>exposed</td>\n",
              "      <td>2020-07-05</td>\n",
              "      <td>2</td>\n",
              "      <td>E5823</td>\n",
              "      <td>6</td>\n",
              "      <td>Chrome Mobile WebView</td>\n",
              "      <td>0</td>\n",
              "      <td>1</td>\n",
              "    </tr>\n",
              "  </tbody>\n",
              "</table>\n",
              "</div>"
            ],
            "text/plain": [
              "                             auction_id experiment        date  hour  \\\n",
              "0  0008ef63-77a7-448b-bd1e-075f42c55e39    exposed  2020-07-10     8   \n",
              "1  000eabc5-17ce-4137-8efe-44734d914446    exposed  2020-07-07    10   \n",
              "2  0016d14a-ae18-4a02-a204-6ba53b52f2ed    exposed  2020-07-05     2   \n",
              "\n",
              "          device_make  platform_os                browser  yes  no  \n",
              "0  Generic Smartphone            6          Chrome Mobile    0   0  \n",
              "1  Generic Smartphone            6          Chrome Mobile    0   0  \n",
              "2               E5823            6  Chrome Mobile WebView    0   1  "
            ]
          },
          "metadata": {
            "tags": []
          },
          "execution_count": 7
        }
      ]
    },
    {
      "cell_type": "code",
      "metadata": {
        "id": "Yi4Xropjsy2p",
        "colab_type": "code",
        "colab": {}
      },
      "source": [
        "df.loc[df['device_make'].str.contains('Samsung'), 'device_make'] = 'Samsung'\n",
        "df.loc[df['device_make'].str.contains('Huawei',case=False), 'device_make'] = 'Huawei'\n",
        "df.loc[df['device_make'].str.contains('HTC'), 'device_make'] = 'HTC'\n",
        "df.loc[df['device_make'].str.contains('OnePlus'), 'device_make'] = 'OnePlus'\n",
        "df.loc[df['device_make'].str.contains('XiaoMi'), 'device_make'] = 'XiaoMi'\n",
        "df.loc[df['device_make'].str.contains('Nokia'), 'device_make'] = 'Nokia'\n"
      ],
      "execution_count": null,
      "outputs": []
    },
    {
      "cell_type": "code",
      "metadata": {
        "id": "jL7ykN2BtvSK",
        "colab_type": "code",
        "colab": {
          "base_uri": "https://localhost:8080/",
          "height": 518
        },
        "outputId": "26ca52da-f5f3-4655-cec2-24f4bc1ce99b"
      },
      "source": [
        "fig, ax = plt.subplots(1,1, figsize=(9, 6))\n",
        "df.device_make.value_counts().head(10).plot(kind='bar')\n",
        "plt.title('Top 10 device makes used by users',fontsize=17)\n",
        "plt.xticks(rotation=70,fontsize=10)\n",
        "plt.ylabel('No of devices',fontsize=13)\n",
        "plt.xlabel('Device Make',fontsize=13)"
      ],
      "execution_count": null,
      "outputs": [
        {
          "output_type": "execute_result",
          "data": {
            "text/plain": [
              "Text(0.5, 0, 'Device Make')"
            ]
          },
          "metadata": {
            "tags": []
          },
          "execution_count": 199
        },
        {
          "output_type": "display_data",
          "data": {
            "image/png": "[encoded data removed]",
            "text/plain": [
              "<Figure size 648x432 with 1 Axes>"
            ]
          },
          "metadata": {
            "tags": [],
            "needs_background": "light"
          }
        }
      ]
    },
    {
      "cell_type": "markdown",
      "metadata": {
        "id": "y0ufFwMR2GrE",
        "colab_type": "text"
      },
      "source": [
        ">> Top device makes for users who participated in experiment is General Smartphone,Samsung,Iphone,Nokia and OnePlus"
      ]
    },
    {
      "cell_type": "code",
      "metadata": {
        "id": "ugheeJT7xfWQ",
        "colab_type": "code",
        "colab": {
          "base_uri": "https://localhost:8080/",
          "height": 405
        },
        "outputId": "7ec27f10-f86c-4f3e-e202-4058f7be4562"
      },
      "source": [
        "exposed.device_make.value_counts().head(10).plot(kind='bar')\n",
        "plt.title('Top 10 device makes used by users in exposed group',fontsize=15)\n",
        "plt.xticks(rotation=70,fontsize=10)\n",
        "plt.ylabel('No of devices',fontsize=10)\n",
        "plt.xlabel('Device Make')"
      ],
      "execution_count": null,
      "outputs": [
        {
          "output_type": "execute_result",
          "data": {
            "text/plain": [
              "Text(0.5, 0, 'Device Make')"
            ]
          },
          "metadata": {
            "tags": []
          },
          "execution_count": 132
        },
        {
          "output_type": "display_data",
          "data": {
            "image/png": "[encoded data removed]",
            "text/plain": [
              "<Figure size 432x288 with 1 Axes>"
            ]
          },
          "metadata": {
            "tags": [],
            "needs_background": "light"
          }
        }
      ]
    },
    {
      "cell_type": "code",
      "metadata": {
        "id": "ENL1odzPysHu",
        "colab_type": "code",
        "colab": {
          "base_uri": "https://localhost:8080/",
          "height": 405
        },
        "outputId": "7bbd9fb2-3eed-4d39-84bd-d62aaa4f765b"
      },
      "source": [
        "control.device_make.value_counts().head(10).plot(kind='bar')\n",
        "plt.title('Top 10 device makes used by users in control group',fontsize=15)\n",
        "plt.xticks(rotation=70,fontsize=10)\n",
        "plt.ylabel('No of devices',fontsize=10)\n",
        "plt.xlabel('Device Make')"
      ],
      "execution_count": null,
      "outputs": [
        {
          "output_type": "execute_result",
          "data": {
            "text/plain": [
              "Text(0.5, 0, 'Device Make')"
            ]
          },
          "metadata": {
            "tags": []
          },
          "execution_count": 133
        },
        {
          "output_type": "display_data",
          "data": {
            "image/png": "[encoded data removed]",
            "text/plain": [
              "<Figure size 432x288 with 1 Axes>"
            ]
          },
          "metadata": {
            "tags": [],
            "needs_background": "light"
          }
        }
      ]
    },
    {
      "cell_type": "markdown",
      "metadata": {
        "id": "3nuHiutE2XA-",
        "colab_type": "text"
      },
      "source": [
        ">> The same top device makes are observed across both groups"
      ]
    },
    {
      "cell_type": "markdown",
      "metadata": {
        "id": "UXQ7KlQFsMva",
        "colab_type": "text"
      },
      "source": [
        "**DATE**\n"
      ]
    },
    {
      "cell_type": "code",
      "metadata": {
        "id": "xj_ohj-Iogas",
        "colab_type": "code",
        "colab": {
          "base_uri": "https://localhost:8080/",
          "height": 287
        },
        "outputId": "d0e206b4-d4dd-4730-cd73-06e4d6a74cc2"
      },
      "source": [
        "\n",
        "df1=df.groupby('date')['auction_id'].count().reset_index()\n",
        "df1"
      ],
      "execution_count": null,
      "outputs": [
        {
          "output_type": "execute_result",
          "data": {
            "text/html": [
              "<div>\n",
              "<style scoped>\n",
              "    .dataframe tbody tr th:only-of-type {\n",
              "        vertical-align: middle;\n",
              "    }\n",
              "\n",
              "    .dataframe tbody tr th {\n",
              "        vertical-align: top;\n",
              "    }\n",
              "\n",
              "    .dataframe thead th {\n",
              "        text-align: right;\n",
              "    }\n",
              "</style>\n",
              "<table border=\"1\" class=\"dataframe\">\n",
              "  <thead>\n",
              "    <tr style=\"text-align: right;\">\n",
              "      <th></th>\n",
              "      <th>date</th>\n",
              "      <th>auction_id</th>\n",
              "    </tr>\n",
              "  </thead>\n",
              "  <tbody>\n",
              "    <tr>\n",
              "      <th>0</th>\n",
              "      <td>2020-07-03</td>\n",
              "      <td>2015</td>\n",
              "    </tr>\n",
              "    <tr>\n",
              "      <th>1</th>\n",
              "      <td>2020-07-04</td>\n",
              "      <td>903</td>\n",
              "    </tr>\n",
              "    <tr>\n",
              "      <th>2</th>\n",
              "      <td>2020-07-05</td>\n",
              "      <td>890</td>\n",
              "    </tr>\n",
              "    <tr>\n",
              "      <th>3</th>\n",
              "      <td>2020-07-06</td>\n",
              "      <td>490</td>\n",
              "    </tr>\n",
              "    <tr>\n",
              "      <th>4</th>\n",
              "      <td>2020-07-07</td>\n",
              "      <td>480</td>\n",
              "    </tr>\n",
              "    <tr>\n",
              "      <th>5</th>\n",
              "      <td>2020-07-08</td>\n",
              "      <td>1198</td>\n",
              "    </tr>\n",
              "    <tr>\n",
              "      <th>6</th>\n",
              "      <td>2020-07-09</td>\n",
              "      <td>1208</td>\n",
              "    </tr>\n",
              "    <tr>\n",
              "      <th>7</th>\n",
              "      <td>2020-07-10</td>\n",
              "      <td>893</td>\n",
              "    </tr>\n",
              "  </tbody>\n",
              "</table>\n",
              "</div>"
            ],
            "text/plain": [
              "         date  auction_id\n",
              "0  2020-07-03        2015\n",
              "1  2020-07-04         903\n",
              "2  2020-07-05         890\n",
              "3  2020-07-06         490\n",
              "4  2020-07-07         480\n",
              "5  2020-07-08        1198\n",
              "6  2020-07-09        1208\n",
              "7  2020-07-10         893"
            ]
          },
          "metadata": {
            "tags": []
          },
          "execution_count": 19
        }
      ]
    },
    {
      "cell_type": "code",
      "metadata": {
        "id": "0RdvyOw4sSrt",
        "colab_type": "code",
        "colab": {
          "base_uri": "https://localhost:8080/",
          "height": 462
        },
        "outputId": "189b46c0-e911-4f9c-9064-4702fe852610"
      },
      "source": [
        "fig, ax = plt.subplots(1,1, figsize=(9, 6))\n",
        "sns.lineplot(x=\"date\", y=\"auction_id\",data=df1)\n",
        "plt.title(\"Number of users per day\",fontsize=18)\n",
        "plt.xlabel('Date',fontsize=18)\n",
        "plt.ylabel('No. of users',fontsize=16)\n",
        "plt.xticks(rotation=30)"
      ],
      "execution_count": null,
      "outputs": [
        {
          "output_type": "execute_result",
          "data": {
            "text/plain": [
              "([0, 1, 2, 3, 4, 5, 6, 7], <a list of 8 Text major ticklabel objects>)"
            ]
          },
          "metadata": {
            "tags": []
          },
          "execution_count": 23
        },
        {
          "output_type": "display_data",
          "data": {
            "image/png": "[encoded data removed]",
            "text/plain": [
              "<Figure size 648x432 with 1 Axes>"
            ]
          },
          "metadata": {
            "tags": []
          }
        }
      ]
    },
    {
      "cell_type": "markdown",
      "metadata": {
        "id": "GRyRvUB6L0Nk",
        "colab_type": "text"
      },
      "source": [
        ">> The number of users are highest on Friday(2020-07-03) then reduce during the weekend and start of the week,then it increases again."
      ]
    },
    {
      "cell_type": "code",
      "metadata": {
        "scrolled": false,
        "id": "uYjrFyjMasGl",
        "colab_type": "code",
        "colab": {
          "base_uri": "https://localhost:8080/",
          "height": 746
        },
        "outputId": "f71b1bc9-29d6-456f-f21d-c9338433171d"
      },
      "source": [
        "# plotting the histograms of some of our numerical variables with the\n",
        "\n",
        "\n",
        "\n",
        "fig, axes = plt.subplots(nrows = 2, ncols = 2, figsize = (14, 10))\n",
        "plt.suptitle('Countplots of some columns ', fontsize = 20, y = 1.01, color = 'blue')\n",
        "\n",
        "colors = ['#00FF7F', '#8B0000', '#C71585', '#0000FF', '#DB7093', '#FFFF00', '#FF4500',\n",
        "          '#7B68EE', '#FF00FF', '#ADFF2F', '#FFD700', '#A52A2A', '#2F4F4F', '#8B008B']\n",
        "for ax, column, color in zip(axes.flatten(), data, colors):\n",
        "    sns.distplot(data[column], ax = ax, color = color, hist_kws = dict(alpha = 0.75))\n",
        "    \n",
        "plt.tight_layout()"
      ],
      "execution_count": null,
      "outputs": [
        {
          "output_type": "display_data",
          "data": {
            "image/png": "[encoded data removed]",
            "text/plain": [
              "<Figure size 1008x720 with 4 Axes>"
            ]
          },
          "metadata": {
            "tags": [],
            "needs_background": "light"
          }
        }
      ]
    },
    {
      "cell_type": "markdown",
      "metadata": {
        "id": "NYIs2bPxz3qW",
        "colab_type": "text"
      },
      "source": [
        "#### Summary of number of responses(yes and no) in each group of the experiment"
      ]
    },
    {
      "cell_type": "code",
      "metadata": {
        "id": "Q3RlV8397JZW",
        "colab_type": "code",
        "colab": {
          "base_uri": "https://localhost:8080/",
          "height": 70
        },
        "outputId": "ba42f3c2-f0e0-4373-d30e-4ea153433362"
      },
      "source": [
        "df.experiment.value_counts()"
      ],
      "execution_count": null,
      "outputs": [
        {
          "output_type": "execute_result",
          "data": {
            "text/plain": [
              "control    4071\n",
              "exposed    4006\n",
              "Name: experiment, dtype: int64"
            ]
          },
          "metadata": {
            "tags": []
          },
          "execution_count": 212
        }
      ]
    },
    {
      "cell_type": "markdown",
      "metadata": {
        "id": "JAQOXE_B5pDw",
        "colab_type": "text"
      },
      "source": [
        ">>The control had 4071 users while exposed had 4006 users"
      ]
    },
    {
      "cell_type": "code",
      "metadata": {
        "colab_type": "code",
        "id": "7EsWPQLnyuQU",
        "colab": {
          "base_uri": "https://localhost:8080/",
          "height": 197
        },
        "outputId": "c690ff8a-b1c4-40fa-ff9d-d7593bc2def1"
      },
      "source": [
        "control=df[df['experiment']=='control']\n",
        "control.tail(5)"
      ],
      "execution_count": null,
      "outputs": [
        {
          "output_type": "execute_result",
          "data": {
            "text/html": [
              "<div>\n",
              "<style scoped>\n",
              "    .dataframe tbody tr th:only-of-type {\n",
              "        vertical-align: middle;\n",
              "    }\n",
              "\n",
              "    .dataframe tbody tr th {\n",
              "        vertical-align: top;\n",
              "    }\n",
              "\n",
              "    .dataframe thead th {\n",
              "        text-align: right;\n",
              "    }\n",
              "</style>\n",
              "<table border=\"1\" class=\"dataframe\">\n",
              "  <thead>\n",
              "    <tr style=\"text-align: right;\">\n",
              "      <th></th>\n",
              "      <th>auction_id</th>\n",
              "      <th>experiment</th>\n",
              "      <th>date</th>\n",
              "      <th>hour</th>\n",
              "      <th>device_make</th>\n",
              "      <th>platform_os</th>\n",
              "      <th>browser</th>\n",
              "      <th>yes</th>\n",
              "      <th>no</th>\n",
              "    </tr>\n",
              "  </thead>\n",
              "  <tbody>\n",
              "    <tr>\n",
              "      <th>8069</th>\n",
              "      <td>ffca1153-c182-4f32-9e90-2a6008417497</td>\n",
              "      <td>control</td>\n",
              "      <td>2020-07-10</td>\n",
              "      <td>16</td>\n",
              "      <td>Generic Smartphone</td>\n",
              "      <td>6</td>\n",
              "      <td>Chrome Mobile</td>\n",
              "      <td>0</td>\n",
              "      <td>1</td>\n",
              "    </tr>\n",
              "    <tr>\n",
              "      <th>8070</th>\n",
              "      <td>ffcea781-a6e7-4f98-9d90-f95377270476</td>\n",
              "      <td>control</td>\n",
              "      <td>2020-07-03</td>\n",
              "      <td>15</td>\n",
              "      <td>Samsung</td>\n",
              "      <td>6</td>\n",
              "      <td>Facebook</td>\n",
              "      <td>0</td>\n",
              "      <td>0</td>\n",
              "    </tr>\n",
              "    <tr>\n",
              "      <th>8073</th>\n",
              "      <td>ffea3210-2c3e-426f-a77d-0aa72e73b20f</td>\n",
              "      <td>control</td>\n",
              "      <td>2020-07-03</td>\n",
              "      <td>15</td>\n",
              "      <td>Generic Smartphone</td>\n",
              "      <td>6</td>\n",
              "      <td>Chrome Mobile</td>\n",
              "      <td>0</td>\n",
              "      <td>0</td>\n",
              "    </tr>\n",
              "    <tr>\n",
              "      <th>8074</th>\n",
              "      <td>ffeaa0f1-1d72-4ba9-afb4-314b3b00a7c7</td>\n",
              "      <td>control</td>\n",
              "      <td>2020-07-04</td>\n",
              "      <td>9</td>\n",
              "      <td>Generic Smartphone</td>\n",
              "      <td>6</td>\n",
              "      <td>Chrome Mobile</td>\n",
              "      <td>0</td>\n",
              "      <td>0</td>\n",
              "    </tr>\n",
              "    <tr>\n",
              "      <th>8076</th>\n",
              "      <td>fffbb9ff-568a-41a5-a0c3-6866592f80d8</td>\n",
              "      <td>control</td>\n",
              "      <td>2020-07-10</td>\n",
              "      <td>14</td>\n",
              "      <td>Samsung</td>\n",
              "      <td>6</td>\n",
              "      <td>Facebook</td>\n",
              "      <td>0</td>\n",
              "      <td>0</td>\n",
              "    </tr>\n",
              "  </tbody>\n",
              "</table>\n",
              "</div>"
            ],
            "text/plain": [
              "                                auction_id experiment        date  hour  \\\n",
              "8069  ffca1153-c182-4f32-9e90-2a6008417497    control  2020-07-10    16   \n",
              "8070  ffcea781-a6e7-4f98-9d90-f95377270476    control  2020-07-03    15   \n",
              "8073  ffea3210-2c3e-426f-a77d-0aa72e73b20f    control  2020-07-03    15   \n",
              "8074  ffeaa0f1-1d72-4ba9-afb4-314b3b00a7c7    control  2020-07-04     9   \n",
              "8076  fffbb9ff-568a-41a5-a0c3-6866592f80d8    control  2020-07-10    14   \n",
              "\n",
              "             device_make  platform_os        browser  yes  no  \n",
              "8069  Generic Smartphone            6  Chrome Mobile    0   1  \n",
              "8070             Samsung            6       Facebook    0   0  \n",
              "8073  Generic Smartphone            6  Chrome Mobile    0   0  \n",
              "8074  Generic Smartphone            6  Chrome Mobile    0   0  \n",
              "8076             Samsung            6       Facebook    0   0  "
            ]
          },
          "metadata": {
            "tags": []
          },
          "execution_count": 211
        }
      ]
    },
    {
      "cell_type": "code",
      "metadata": {
        "id": "FK8qc8xWasF5",
        "colab_type": "code",
        "colab": {
          "base_uri": "https://localhost:8080/",
          "height": 197
        },
        "outputId": "b7d37b4b-fcad-4dac-c638-a18df6520d76"
      },
      "source": [
        "exposed=df[df['experiment']=='exposed']\n",
        "exposed.head(5)"
      ],
      "execution_count": null,
      "outputs": [
        {
          "output_type": "execute_result",
          "data": {
            "text/html": [
              "<div>\n",
              "<style scoped>\n",
              "    .dataframe tbody tr th:only-of-type {\n",
              "        vertical-align: middle;\n",
              "    }\n",
              "\n",
              "    .dataframe tbody tr th {\n",
              "        vertical-align: top;\n",
              "    }\n",
              "\n",
              "    .dataframe thead th {\n",
              "        text-align: right;\n",
              "    }\n",
              "</style>\n",
              "<table border=\"1\" class=\"dataframe\">\n",
              "  <thead>\n",
              "    <tr style=\"text-align: right;\">\n",
              "      <th></th>\n",
              "      <th>auction_id</th>\n",
              "      <th>experiment</th>\n",
              "      <th>date</th>\n",
              "      <th>hour</th>\n",
              "      <th>device_make</th>\n",
              "      <th>platform_os</th>\n",
              "      <th>browser</th>\n",
              "      <th>yes</th>\n",
              "      <th>no</th>\n",
              "    </tr>\n",
              "  </thead>\n",
              "  <tbody>\n",
              "    <tr>\n",
              "      <th>0</th>\n",
              "      <td>0008ef63-77a7-448b-bd1e-075f42c55e39</td>\n",
              "      <td>exposed</td>\n",
              "      <td>2020-07-10</td>\n",
              "      <td>8</td>\n",
              "      <td>Generic Smartphone</td>\n",
              "      <td>6</td>\n",
              "      <td>Chrome Mobile</td>\n",
              "      <td>0</td>\n",
              "      <td>0</td>\n",
              "    </tr>\n",
              "    <tr>\n",
              "      <th>1</th>\n",
              "      <td>000eabc5-17ce-4137-8efe-44734d914446</td>\n",
              "      <td>exposed</td>\n",
              "      <td>2020-07-07</td>\n",
              "      <td>10</td>\n",
              "      <td>Generic Smartphone</td>\n",
              "      <td>6</td>\n",
              "      <td>Chrome Mobile</td>\n",
              "      <td>0</td>\n",
              "      <td>0</td>\n",
              "    </tr>\n",
              "    <tr>\n",
              "      <th>2</th>\n",
              "      <td>0016d14a-ae18-4a02-a204-6ba53b52f2ed</td>\n",
              "      <td>exposed</td>\n",
              "      <td>2020-07-05</td>\n",
              "      <td>2</td>\n",
              "      <td>E5823</td>\n",
              "      <td>6</td>\n",
              "      <td>Chrome Mobile WebView</td>\n",
              "      <td>0</td>\n",
              "      <td>1</td>\n",
              "    </tr>\n",
              "    <tr>\n",
              "      <th>8</th>\n",
              "      <td>004940f5-c642-417a-8fd2-c8e5d989f358</td>\n",
              "      <td>exposed</td>\n",
              "      <td>2020-07-04</td>\n",
              "      <td>0</td>\n",
              "      <td>Generic Smartphone</td>\n",
              "      <td>6</td>\n",
              "      <td>Chrome Mobile WebView</td>\n",
              "      <td>0</td>\n",
              "      <td>0</td>\n",
              "    </tr>\n",
              "    <tr>\n",
              "      <th>13</th>\n",
              "      <td>006b9c6e-5f5d-4385-a811-ff20a24b30ac</td>\n",
              "      <td>exposed</td>\n",
              "      <td>2020-07-06</td>\n",
              "      <td>8</td>\n",
              "      <td>Samsung</td>\n",
              "      <td>6</td>\n",
              "      <td>Chrome Mobile WebView</td>\n",
              "      <td>0</td>\n",
              "      <td>0</td>\n",
              "    </tr>\n",
              "  </tbody>\n",
              "</table>\n",
              "</div>"
            ],
            "text/plain": [
              "                              auction_id experiment        date  hour  \\\n",
              "0   0008ef63-77a7-448b-bd1e-075f42c55e39    exposed  2020-07-10     8   \n",
              "1   000eabc5-17ce-4137-8efe-44734d914446    exposed  2020-07-07    10   \n",
              "2   0016d14a-ae18-4a02-a204-6ba53b52f2ed    exposed  2020-07-05     2   \n",
              "8   004940f5-c642-417a-8fd2-c8e5d989f358    exposed  2020-07-04     0   \n",
              "13  006b9c6e-5f5d-4385-a811-ff20a24b30ac    exposed  2020-07-06     8   \n",
              "\n",
              "           device_make  platform_os                browser  yes  no  \n",
              "0   Generic Smartphone            6          Chrome Mobile    0   0  \n",
              "1   Generic Smartphone            6          Chrome Mobile    0   0  \n",
              "2                E5823            6  Chrome Mobile WebView    0   1  \n",
              "8   Generic Smartphone            6  Chrome Mobile WebView    0   0  \n",
              "13             Samsung            6  Chrome Mobile WebView    0   0  "
            ]
          },
          "metadata": {
            "tags": []
          },
          "execution_count": 213
        }
      ]
    },
    {
      "cell_type": "code",
      "metadata": {
        "id": "7S7J4kea4Ch5",
        "colab_type": "code",
        "colab": {}
      },
      "source": [
        "df_summary=df.pivot_table(values='yes',index='experiment',aggfunc=np.sum)"
      ],
      "execution_count": null,
      "outputs": []
    },
    {
      "cell_type": "code",
      "metadata": {
        "id": "2sH_zf9X4lIo",
        "colab_type": "code",
        "colab": {}
      },
      "source": [
        "df_summary['total']=df.pivot_table(values='yes',index='experiment',aggfunc=lambda x: len(x))"
      ],
      "execution_count": null,
      "outputs": []
    },
    {
      "cell_type": "code",
      "metadata": {
        "id": "R3BVK9U64cc5",
        "colab_type": "code",
        "colab": {
          "base_uri": "https://localhost:8080/",
          "height": 137
        },
        "outputId": "4f4a0d73-e6b2-4d59-880a-f055e2091ec9"
      },
      "source": [
        "df_summary['no']=df.pivot_table(values='no',index='experiment',aggfunc=np.sum)\n",
        "df_summary"
      ],
      "execution_count": null,
      "outputs": [
        {
          "output_type": "execute_result",
          "data": {
            "text/html": [
              "<div>\n",
              "<style scoped>\n",
              "    .dataframe tbody tr th:only-of-type {\n",
              "        vertical-align: middle;\n",
              "    }\n",
              "\n",
              "    .dataframe tbody tr th {\n",
              "        vertical-align: top;\n",
              "    }\n",
              "\n",
              "    .dataframe thead th {\n",
              "        text-align: right;\n",
              "    }\n",
              "</style>\n",
              "<table border=\"1\" class=\"dataframe\">\n",
              "  <thead>\n",
              "    <tr style=\"text-align: right;\">\n",
              "      <th></th>\n",
              "      <th>yes</th>\n",
              "      <th>total</th>\n",
              "      <th>no</th>\n",
              "    </tr>\n",
              "    <tr>\n",
              "      <th>experiment</th>\n",
              "      <th></th>\n",
              "      <th></th>\n",
              "      <th></th>\n",
              "    </tr>\n",
              "  </thead>\n",
              "  <tbody>\n",
              "    <tr>\n",
              "      <th>control</th>\n",
              "      <td>264</td>\n",
              "      <td>4071</td>\n",
              "      <td>322</td>\n",
              "    </tr>\n",
              "    <tr>\n",
              "      <th>exposed</th>\n",
              "      <td>308</td>\n",
              "      <td>4006</td>\n",
              "      <td>349</td>\n",
              "    </tr>\n",
              "  </tbody>\n",
              "</table>\n",
              "</div>"
            ],
            "text/plain": [
              "            yes  total   no\n",
              "experiment                 \n",
              "control     264   4071  322\n",
              "exposed     308   4006  349"
            ]
          },
          "metadata": {
            "tags": []
          },
          "execution_count": 216
        }
      ]
    },
    {
      "cell_type": "markdown",
      "metadata": {
        "id": "zetZl5iV7nuF",
        "colab_type": "text"
      },
      "source": [
        ">> * In control those who responded yes are 264/4071 and 308/4006 in exposed group\n",
        "* In control those who responded no are 322/4071 and 349/4006 in exposed group\n",
        "\n",
        "   * More users from exposed group are aware of the brand\n"
      ]
    },
    {
      "cell_type": "code",
      "metadata": {
        "id": "BB47zJ-cDw9w",
        "colab_type": "code",
        "colab": {}
      },
      "source": [
        ""
      ],
      "execution_count": null,
      "outputs": []
    },
    {
      "cell_type": "markdown",
      "metadata": {
        "id": "ZT_819xugs5z",
        "colab_type": "text"
      },
      "source": [
        "## <font color='#2F4F4F'>A/B Testing</font>"
      ]
    },
    {
      "cell_type": "markdown",
      "metadata": {
        "id": "zt9QrWm7u4MQ",
        "colab_type": "text"
      },
      "source": [
        "### **Metric Choice**\n",
        "For this experiment,we have two types of metrics\n",
        " * ***Invariate metrics***-used to make sure our experiement (the way we presented a change to a part of the poupaltion)is not inherently wrong.We pick metrics which we consider not to change(or get affected) because of the expt. and make sure they dont change drastically between the exposed and experiment group.\n",
        " eg click through probability,number of users in each group\n",
        " * **Evaluation metrics**-These are metrics that we expect to see a change,and are relevant to the business goals we aim to achieve eg. conversion(brand awareness) rate\n"
      ]
    },
    {
      "cell_type": "markdown",
      "metadata": {
        "id": "L3TK5DzS1FOR",
        "colab_type": "text"
      },
      "source": [
        "**Invariance metrics sanity checks** help verify that the experiment was conducted as expected and that other factors did not influence the data collected eg\n",
        " * Number of users in the experiement\n",
        " * Number of clicks/responses in the experiment\n",
        " * Click through probability\n",
        "\n",
        "We'll check whether these observed values are like we expect(if in fact the experiement was not damaged)\n"
      ]
    },
    {
      "cell_type": "code",
      "metadata": {
        "id": "1Jpdwq-M3BHk",
        "colab_type": "code",
        "colab": {}
      },
      "source": [
        "def get_z_score(alpha):\n",
        "    return norm.ppf(alpha)"
      ],
      "execution_count": null,
      "outputs": []
    },
    {
      "cell_type": "markdown",
      "metadata": {
        "id": "meko-yoit2W6",
        "colab_type": "text"
      },
      "source": [
        "#### Difference in number of users who viewed the experiment\n",
        "* We expect the number of users  in the control group to be about a half (50%) of the total users in both groups, so we can define a random variable with an easy to use distribution.\n",
        "* A binomial random variable will be the number of successes we can expect to get out of N experiments, given the probability of a single success. So, if we consider being assigned to a group (control, for example) a success with probability 0.5 (random!), the number of samples which get assigned to the group is the value of our random binomial variable!\n",
        "\n",
        "* This get's easier thanks to the central limit theorem which let's us approximate the binomial distribution to a normal distribution (when n is large enough) with a mean of  p  and a standard deviation    sqrt(p(1−p)/N)\n",
        "X ~ N(p,sqrt(p/(1−p)N)) \n",
        "* What we want to test is whether our observed  p^  (number of samples in control divided by total number of samples in both groups) is not significantly different than  p=0.5 . In order to do that we can calculate the margin of error acceptable at a 95% confidence level:\n",
        "ME=Z1−α/2*SD \n",
        "* Finally, a confidence interval can be derived to tell us in which range an observed  p  can exist and be acceptable as \"the same\" as the expected value.\n",
        "\n",
        "\n",
        "CI=[p^−ME,p^+ME] \n",
        "When our obsereved  p^  is within this range, all is well and the test was passed."
      ]
    },
    {
      "cell_type": "code",
      "metadata": {
        "id": "4SJw1jXK1E4Y",
        "colab_type": "code",
        "colab": {
          "base_uri": "https://localhost:8080/",
          "height": 34
        },
        "outputId": "38c98e9b-0aef-4d2e-ec4d-072358e62b9c"
      },
      "source": [
        "##Number of users who viewed the experiment\n",
        "\n",
        "import math as mt \n",
        "\n",
        "experiment_total=exposed_total+control_total\n",
        "p=0.5\n",
        "alpha=0.05\n",
        "p_hat=round(control_total/(experiment_total),4)\n",
        "sd=mt.sqrt(p*(1-p)/(experiment_total))\n",
        "ME=round(get_z_score(1-(alpha/2))*sd,4)\n",
        "print(\"The confidence interval is between\",p-ME,\"and\",p+ME,\"; Is\",p_hat,\"inside this range?\")"
      ],
      "execution_count": null,
      "outputs": [
        {
          "output_type": "stream",
          "text": [
            "The confidence interval is between 0.4891 and 0.5109 ; Is 0.504 inside this range?\n"
          ],
          "name": "stdout"
        }
      ]
    },
    {
      "cell_type": "markdown",
      "metadata": {
        "id": "WWMHNTYv3S45",
        "colab_type": "text"
      },
      "source": [
        ">> Our observed  p-hat  is inside this range which means the difference in number of samples between groups is expected. So far so good, since this invariant metric sanity test passes!"
      ]
    },
    {
      "cell_type": "markdown",
      "metadata": {
        "id": "W9BbbUxUISIy",
        "colab_type": "text"
      },
      "source": [
        "#### Difference in sample size is the same for both groups using SPRT\n",
        "* Just doing the same as above using sequential probability ratio test\n",
        "\n",
        " * **H0**(*Null hypothesis*):No difference in response is the same for both groups\n",
        " * **H1**(*Alternative hypothesis*):No difference in response is the same for both groups "
      ]
    },
    {
      "cell_type": "code",
      "metadata": {
        "id": "OIOzBp6GDUGf",
        "colab_type": "code",
        "colab": {
          "base_uri": "https://localhost:8080/",
          "height": 34
        },
        "outputId": "2e672f7e-27b5-471f-e319-b0fb728d47e0"
      },
      "source": [
        "!pip install sprt"
      ],
      "execution_count": null,
      "outputs": [
        {
          "output_type": "stream",
          "text": [
            "Requirement already satisfied: sprt in /usr/local/lib/python3.6/dist-packages (0.0.1)\n"
          ],
          "name": "stdout"
        }
      ]
    },
    {
      "cell_type": "code",
      "metadata": {
        "id": "TM8oEWKYCLCh",
        "colab_type": "code",
        "colab": {
          "base_uri": "https://localhost:8080/",
          "height": 265
        },
        "outputId": "3a7a7900-bfc8-4c83-c67c-b0d5a9a5c367"
      },
      "source": [
        "\n",
        "\n",
        "import sprt as sprt\n",
        "import numpy as np\n",
        "# SPRT \n",
        "# Binomial Endpoints\n",
        "import sprt as sprt\n",
        "import numpy as np\n",
        "\n",
        "\n",
        "# Type I error rate = 0.05\n",
        "alpha = 0.05\n",
        "# Type II error rate = 0.2\n",
        "beta = 0.2\n",
        "# Values\n",
        "values = control['yes'].values\n",
        "test = sprt.SPRTBinomial(h0 = h0, h1 = h1, alpha = alpha, beta = beta, values = values)"
      ],
      "execution_count": null,
      "outputs": [
        {
          "output_type": "stream",
          "text": [
            "Decision:\tAccept\n",
            "\n",
            "      values    lower    upper\n",
            "n                             \n",
            "4062     264  301.349  323.189\n",
            "4063     264  301.426  323.265\n",
            "4064     264  301.502  323.342\n",
            "4065     264  301.578  323.418\n",
            "4066     264  301.654  323.494\n",
            "4067     264  301.730  323.570\n",
            "4068     264  301.806  323.646\n",
            "4069     264  301.882  323.722\n",
            "4070     264  301.958  323.798\n",
            "4071     264  302.035  323.874\n"
          ],
          "name": "stdout"
        }
      ]
    },
    {
      "cell_type": "code",
      "metadata": {
        "id": "aL0XkkQVGMmo",
        "colab_type": "code",
        "colab": {}
      },
      "source": [
        "control=df[df['experiment']=='control']\n",
        "exposed=df[df['experiment']=='exposed']"
      ],
      "execution_count": null,
      "outputs": []
    },
    {
      "cell_type": "code",
      "metadata": {
        "id": "08nEzcnQGceq",
        "colab_type": "code",
        "colab": {
          "base_uri": "https://localhost:8080/",
          "height": 70
        },
        "outputId": "6878a09d-1d3f-4770-cc26-1262c2a07203"
      },
      "source": [
        "control.yes.value_counts()"
      ],
      "execution_count": null,
      "outputs": [
        {
          "output_type": "execute_result",
          "data": {
            "text/plain": [
              "0    3807\n",
              "1     264\n",
              "Name: yes, dtype: int64"
            ]
          },
          "metadata": {
            "tags": []
          },
          "execution_count": 139
        }
      ]
    },
    {
      "cell_type": "code",
      "metadata": {
        "id": "3GAIDSmSGwEV",
        "colab_type": "code",
        "colab": {
          "base_uri": "https://localhost:8080/",
          "height": 34
        },
        "outputId": "b41921de-6e7b-4cd8-e841-768911bcfce6"
      },
      "source": [
        "h0=264/3807\n",
        "h0"
      ],
      "execution_count": null,
      "outputs": [
        {
          "output_type": "execute_result",
          "data": {
            "text/plain": [
              "0.06934594168636722"
            ]
          },
          "metadata": {
            "tags": []
          },
          "execution_count": 140
        }
      ]
    },
    {
      "cell_type": "code",
      "metadata": {
        "id": "TOid7I5iG1wn",
        "colab_type": "code",
        "colab": {
          "base_uri": "https://localhost:8080/",
          "height": 70
        },
        "outputId": "cda2fd78-5733-4c31-fafd-89beb910deea"
      },
      "source": [
        "exposed.yes.value_counts()\n"
      ],
      "execution_count": null,
      "outputs": [
        {
          "output_type": "execute_result",
          "data": {
            "text/plain": [
              "0    3698\n",
              "1     308\n",
              "Name: yes, dtype: int64"
            ]
          },
          "metadata": {
            "tags": []
          },
          "execution_count": 141
        }
      ]
    },
    {
      "cell_type": "code",
      "metadata": {
        "id": "kHSK5KNIG8wH",
        "colab_type": "code",
        "colab": {
          "base_uri": "https://localhost:8080/",
          "height": 34
        },
        "outputId": "6a8922b5-b189-4c8c-d720-bde5a31de740"
      },
      "source": [
        "h1=308/3698\n",
        "h1"
      ],
      "execution_count": null,
      "outputs": [
        {
          "output_type": "execute_result",
          "data": {
            "text/plain": [
              "0.08328826392644673"
            ]
          },
          "metadata": {
            "tags": []
          },
          "execution_count": 142
        }
      ]
    },
    {
      "cell_type": "code",
      "metadata": {
        "id": "GVtyFum6Dug2",
        "colab_type": "code",
        "colab": {
          "base_uri": "https://localhost:8080/",
          "height": 392
        },
        "outputId": "da09dcb4-04ca-4bf1-9a34-bc08a56b3f72"
      },
      "source": [
        "test.plotBoundary()"
      ],
      "execution_count": null,
      "outputs": [
        {
          "output_type": "display_data",
          "data": {
            "image/png": "[encoded data removed]",
            "text/plain": [
              "<Figure size 576x432 with 1 Axes>"
            ]
          },
          "metadata": {
            "tags": [],
            "needs_background": "light"
          }
        }
      ]
    },
    {
      "cell_type": "code",
      "metadata": {
        "id": "ueVXUiegCgGl",
        "colab_type": "code",
        "colab": {
          "base_uri": "https://localhost:8080/",
          "height": 392
        },
        "outputId": "e6b1f4f8-54a8-43ad-eef2-06b84e882276"
      },
      "source": [
        "test.plot()"
      ],
      "execution_count": null,
      "outputs": [
        {
          "output_type": "display_data",
          "data": {
            "image/png": "[encoded data removed]",
            "text/plain": [
              "<Figure size 576x432 with 1 Axes>"
            ]
          },
          "metadata": {
            "tags": [],
            "needs_background": "light"
          }
        }
      ]
    },
    {
      "cell_type": "markdown",
      "metadata": {
        "id": "PkCfLGp6J3bC",
        "colab_type": "text"
      },
      "source": [
        ">> Accept the null hypothesis that there is no difference between the two groups.\n"
      ]
    },
    {
      "cell_type": "code",
      "metadata": {
        "id": "DPgXtTpm3Yht",
        "colab_type": "code",
        "colab": {
          "base_uri": "https://localhost:8080/",
          "height": 34
        },
        "outputId": "bc4fc7e5-bba6-4238-e837-571db067df62"
      },
      "source": [
        "##Number of users who responded\n",
        "control_responses=control['yes'].sum()+control['no'].sum()\n",
        "exposed_responses=exposed['yes'].sum()+exposed['no'].sum()\n",
        "\n",
        "response_total=control_responses +exposed_responses\n",
        "\n",
        "\n",
        "p_hat=round(control_responses/(response_total),4)\n",
        "sd=mt.sqrt(p*(1-p)/(response_total))\n",
        "ME=round(get_z_score(1-(alpha/2))*sd,4)\n",
        "print(\"The confidence interval is between\",p-ME,\"and\",p+ME,\"; Is\",p_hat,\"inside this range?\")\n"
      ],
      "execution_count": null,
      "outputs": [
        {
          "output_type": "stream",
          "text": [
            "The confidence interval is between 0.4722 and 0.5278 ; Is 0.4714 inside this range?\n"
          ],
          "name": "stdout"
        }
      ]
    },
    {
      "cell_type": "markdown",
      "metadata": {
        "id": "HkKYi_hXxHxT",
        "colab_type": "text"
      },
      "source": [
        "#### Difference in number of users who responded\n",
        "\n",
        "* In this case, we want to make sure the proportion of responses given the questionnaire (our observed CTP) is about the same in both groups (since this was not expected to change due to the experiment). In order to check this out we will calculate the CTP in each group and calculate a confidence interval for the expected difference between them.\n",
        "* In other words, we expect to see no difference ( CTPexp−CTPcont=0 ), with an acceptable margin of error, dictated by our calculated confidence interval. The changes we should notice are for the calculation of the standard error - which in this case is a pooled standard error.\n",
        "\n",
        "SDpool=sqrt(ppool^(1−ppool^(1Ncont+1Nexp))\n",
        "with\n",
        "ppool^=((xcont+xexp)/(Ncont+Nexp)) \n",
        "* We should understand that CTP is a proportion in a population (amount of events x in a population n) like the amount of responses out of the amount of users given questionnaire."
      ]
    },
    {
      "cell_type": "code",
      "metadata": {
        "id": "8N1V6HfI46Ee",
        "colab_type": "code",
        "colab": {
          "base_uri": "https://localhost:8080/",
          "height": 34
        },
        "outputId": "2fcb4ed5-48c0-49b1-f42f-320a9671f709"
      },
      "source": [
        "##Click through probability\n",
        "ctp_control=control_responses/4071\n",
        "ctp_exposed=exposed_responses/4006\n",
        "\n",
        "d_hat=round(ctp_exposed-ctp_control,4)\n",
        "\n",
        "p_pooled=response_total/8077\n",
        "sd_pooled=mt.sqrt(p_pooled*(1-p_pooled)*(1/4071 + 1/4006))\n",
        "\n",
        "ME=round(get_z_score(1-(alpha/2)) **sd_pooled,4)\n",
        "print (\"The confidence interval is between\",0-ME,\"and\",0+ME,\"; Is\",d_hat,\"within this range?\")"
      ],
      "execution_count": null,
      "outputs": [
        {
          "output_type": "stream",
          "text": [
            "The confidence interval is between -1.0054 and 1.0054 ; Is 0.0201 within this range?\n"
          ],
          "name": "stdout"
        }
      ]
    },
    {
      "cell_type": "markdown",
      "metadata": {
        "id": "OrRx7xbuBbi_",
        "colab_type": "text"
      },
      "source": [
        "#### Difference in platforms between the groups.\n",
        "**Null Hypothesis:** The number of users for the platform_os used is different for exposed and control group.\n",
        "\n",
        "**Alternative Hypthosis:** The number of users for the platform_os used is not different for exposed and control group."
      ]
    },
    {
      "cell_type": "code",
      "metadata": {
        "id": "vpjBxa63DggS",
        "colab_type": "code",
        "colab": {}
      },
      "source": [
        "import statsmodels.api as sm\n",
        "import numpy as np\n",
        "import scipy.stats as stats"
      ],
      "execution_count": null,
      "outputs": []
    },
    {
      "cell_type": "code",
      "metadata": {
        "id": "4Vz5ABnCBaLY",
        "colab_type": "code",
        "colab": {
          "base_uri": "https://localhost:8080/",
          "height": 34
        },
        "outputId": "ffd684b4-f22c-4528-eba4-1fc74173cb52"
      },
      "source": [
        "sm.stats.ztest(exposed['platform_os'], control['platform_os'],alternative='two-sided')\n"
      ],
      "execution_count": null,
      "outputs": [
        {
          "output_type": "execute_result",
          "data": {
            "text/plain": [
              "(9.252358074412673, 2.195936596838038e-20)"
            ]
          },
          "metadata": {
            "tags": []
          },
          "execution_count": 223
        }
      ]
    },
    {
      "cell_type": "markdown",
      "metadata": {
        "id": "ob43dA3SHP7M",
        "colab_type": "text"
      },
      "source": [
        ">> Since the p-value  (2.195936596838038e-20) is extremely small, we can reject the Null hypothesis that the number of users for the plaform is statistically significantly different"
      ]
    },
    {
      "cell_type": "markdown",
      "metadata": {
        "id": "QZh60V0vGtM1",
        "colab_type": "text"
      },
      "source": [
        "#### Difference in hours distribution between the group\n",
        "**Null Hypothesis:** The distribution of user's hours  is different for exposed and control group.\n",
        "\n",
        "**Alternative Hypthosis:**   The distribution of user's hours used is not different for exposed and control group."
      ]
    },
    {
      "cell_type": "code",
      "metadata": {
        "id": "69AKvXvZG06P",
        "colab_type": "code",
        "colab": {
          "base_uri": "https://localhost:8080/",
          "height": 34
        },
        "outputId": "c0429476-8a12-4c7a-94de-c6fe04605f12"
      },
      "source": [
        "sm.stats.ztest(exposed['hour'], control['hour'],alternative='two-sided')"
      ],
      "execution_count": null,
      "outputs": [
        {
          "output_type": "execute_result",
          "data": {
            "text/plain": [
              "(-14.13708503652261, 2.2438815524848284e-45)"
            ]
          },
          "metadata": {
            "tags": []
          },
          "execution_count": 224
        }
      ]
    },
    {
      "cell_type": "code",
      "metadata": {
        "id": "dRUXQxgUprY9",
        "colab_type": "code",
        "colab": {}
      },
      "source": [
        ""
      ],
      "execution_count": null,
      "outputs": []
    },
    {
      "cell_type": "markdown",
      "metadata": {
        "colab_type": "text",
        "id": "_JokFsqmHhOF"
      },
      "source": [
        ">> Since the p-value  (2.2438815524848284e-45)) is extremely small, we can reject the Null hypothesis that the distribution of user's hours is  statistically significantly different for exposed and control group."
      ]
    },
    {
      "cell_type": "markdown",
      "metadata": {
        "id": "1oCUCi44zcEP",
        "colab_type": "text"
      },
      "source": [
        "#### Sample Size for the Conversion(Brand awareness) rate"
      ]
    },
    {
      "cell_type": "code",
      "metadata": {
        "id": "JAYVhZTkzhXz",
        "colab_type": "code",
        "colab": {}
      },
      "source": [
        "def get_sds(p,d):\n",
        "    sd1=mt.sqrt(2*p*(1-p))\n",
        "    sd2=mt.sqrt(p*(1-p)+(p+d)*(1-(p+d)))\n",
        "    x=[sd1,sd2]\n",
        "    return x\n",
        "#Inputs: required alpha value (alpha should already fit the required test)\n",
        "#Returns: z-score for given alpha\n",
        "def get_z_score(alpha):\n",
        "    return norm.ppf(alpha)\n",
        "\n",
        "# Inputs p-baseline conversion rate which is our estimated p and d-minimum detectable change\n",
        "# Returns\n",
        "def get_sds(p,d):\n",
        "    sd1=mt.sqrt(2*p*(1-p))\n",
        "    sd2=mt.sqrt(p*(1-p)+(p+d)*(1-(p+d)))\n",
        "    sds=[sd1,sd2]\n",
        "    return sds\n",
        "\n",
        "# Inputs:sd1-sd for the baseline,sd2-sd for the expected change,alpha,beta,d-d_min,p-baseline estimate p\n",
        "# Returns: the minimum sample size required per group according to metric denominator\n",
        "def get_sampSize(sds,alpha,beta,d):\n",
        "    n=pow((get_z_score(1-alpha/2)*sds[0]+get_z_score(1-beta)*sds[1]),2)/pow(d,2)\n",
        "    return n"
      ],
      "execution_count": null,
      "outputs": []
    },
    {
      "cell_type": "code",
      "metadata": {
        "id": "DFoH0Nvx3DJJ",
        "colab_type": "code",
        "colab": {}
      },
      "source": [
        "p_hat=((control_converted+exposed_converted)/(control_total+exposed_total))\n",
        "d=0.01"
      ],
      "execution_count": null,
      "outputs": []
    },
    {
      "cell_type": "code",
      "metadata": {
        "id": "8OPigNCv3F3_",
        "colab_type": "code",
        "colab": {
          "base_uri": "https://localhost:8080/",
          "height": 34
        },
        "outputId": "beedf09b-bf05-418e-9df2-8385b78e780c"
      },
      "source": [
        "import math as mt\n",
        "sample_size=round(get_sampSize(get_sds(p_hat,d),0.05,0.2,d))\n",
        "sample_size"
      ],
      "execution_count": null,
      "outputs": [
        {
          "output_type": "execute_result",
          "data": {
            "text/plain": [
              "10527.0"
            ]
          },
          "metadata": {
            "tags": []
          },
          "execution_count": 162
        }
      ]
    },
    {
      "cell_type": "markdown",
      "metadata": {
        "id": "OwkEXIGiKd2w",
        "colab_type": "text"
      },
      "source": [
        ">> The required effective sample size should be 10527, which is less than the sampple we have.We can consider using sequential testing to deal with this limitation."
      ]
    },
    {
      "cell_type": "markdown",
      "metadata": {
        "id": "SVlCAzTUB6gJ",
        "colab_type": "text"
      },
      "source": [
        "### How many users from each group were aware of the brand.(awarenes rate)"
      ]
    },
    {
      "cell_type": "markdown",
      "metadata": {
        "id": "JVEAZJ7XiZMu",
        "colab_type": "text"
      },
      "source": [
        ""
      ]
    },
    {
      "cell_type": "code",
      "metadata": {
        "id": "kP9xqwCj31di",
        "colab_type": "code",
        "colab": {
          "base_uri": "https://localhost:8080/",
          "height": 197
        },
        "outputId": "8710141c-84aa-45bd-8247-4b6cc01ffb3b"
      },
      "source": [
        "exposed=df[df['experiment']=='exposed']\n",
        "exposed.tail(5)"
      ],
      "execution_count": null,
      "outputs": [
        {
          "output_type": "execute_result",
          "data": {
            "text/html": [
              "<div>\n",
              "<style scoped>\n",
              "    .dataframe tbody tr th:only-of-type {\n",
              "        vertical-align: middle;\n",
              "    }\n",
              "\n",
              "    .dataframe tbody tr th {\n",
              "        vertical-align: top;\n",
              "    }\n",
              "\n",
              "    .dataframe thead th {\n",
              "        text-align: right;\n",
              "    }\n",
              "</style>\n",
              "<table border=\"1\" class=\"dataframe\">\n",
              "  <thead>\n",
              "    <tr style=\"text-align: right;\">\n",
              "      <th></th>\n",
              "      <th>auction_id</th>\n",
              "      <th>experiment</th>\n",
              "      <th>date</th>\n",
              "      <th>hour</th>\n",
              "      <th>device_make</th>\n",
              "      <th>platform_os</th>\n",
              "      <th>browser</th>\n",
              "      <th>yes</th>\n",
              "      <th>no</th>\n",
              "    </tr>\n",
              "  </thead>\n",
              "  <tbody>\n",
              "    <tr>\n",
              "      <th>8065</th>\n",
              "      <td>ffbc02cb-628a-4de5-87fc-5d76b7d796e5</td>\n",
              "      <td>exposed</td>\n",
              "      <td>2020-07-09</td>\n",
              "      <td>17</td>\n",
              "      <td>Generic Smartphone</td>\n",
              "      <td>6</td>\n",
              "      <td>Chrome Mobile</td>\n",
              "      <td>0</td>\n",
              "      <td>0</td>\n",
              "    </tr>\n",
              "    <tr>\n",
              "      <th>8067</th>\n",
              "      <td>ffc594ef-756c-4d24-a310-0d8eb4e11eb7</td>\n",
              "      <td>exposed</td>\n",
              "      <td>2020-07-05</td>\n",
              "      <td>1</td>\n",
              "      <td>Samsung SM-G950F</td>\n",
              "      <td>6</td>\n",
              "      <td>Chrome Mobile WebView</td>\n",
              "      <td>0</td>\n",
              "      <td>0</td>\n",
              "    </tr>\n",
              "    <tr>\n",
              "      <th>8071</th>\n",
              "      <td>ffdfdc09-48c7-4bfb-80f8-ec1eb633602b</td>\n",
              "      <td>exposed</td>\n",
              "      <td>2020-07-03</td>\n",
              "      <td>4</td>\n",
              "      <td>Generic Smartphone</td>\n",
              "      <td>6</td>\n",
              "      <td>Chrome Mobile</td>\n",
              "      <td>0</td>\n",
              "      <td>1</td>\n",
              "    </tr>\n",
              "    <tr>\n",
              "      <th>8072</th>\n",
              "      <td>ffea24ec-cec1-43fb-b1d1-8f93828c2be2</td>\n",
              "      <td>exposed</td>\n",
              "      <td>2020-07-05</td>\n",
              "      <td>7</td>\n",
              "      <td>Generic Smartphone</td>\n",
              "      <td>6</td>\n",
              "      <td>Chrome Mobile</td>\n",
              "      <td>0</td>\n",
              "      <td>0</td>\n",
              "    </tr>\n",
              "    <tr>\n",
              "      <th>8075</th>\n",
              "      <td>ffeeed62-3f7c-4a6e-8ba7-95d303d40969</td>\n",
              "      <td>exposed</td>\n",
              "      <td>2020-07-05</td>\n",
              "      <td>15</td>\n",
              "      <td>Samsung SM-A515F</td>\n",
              "      <td>6</td>\n",
              "      <td>Samsung Internet</td>\n",
              "      <td>0</td>\n",
              "      <td>0</td>\n",
              "    </tr>\n",
              "  </tbody>\n",
              "</table>\n",
              "</div>"
            ],
            "text/plain": [
              "                                auction_id experiment        date  hour  \\\n",
              "8065  ffbc02cb-628a-4de5-87fc-5d76b7d796e5    exposed  2020-07-09    17   \n",
              "8067  ffc594ef-756c-4d24-a310-0d8eb4e11eb7    exposed  2020-07-05     1   \n",
              "8071  ffdfdc09-48c7-4bfb-80f8-ec1eb633602b    exposed  2020-07-03     4   \n",
              "8072  ffea24ec-cec1-43fb-b1d1-8f93828c2be2    exposed  2020-07-05     7   \n",
              "8075  ffeeed62-3f7c-4a6e-8ba7-95d303d40969    exposed  2020-07-05    15   \n",
              "\n",
              "             device_make  platform_os                browser  yes  no  \n",
              "8065  Generic Smartphone            6          Chrome Mobile    0   0  \n",
              "8067    Samsung SM-G950F            6  Chrome Mobile WebView    0   0  \n",
              "8071  Generic Smartphone            6          Chrome Mobile    0   1  \n",
              "8072  Generic Smartphone            6          Chrome Mobile    0   0  \n",
              "8075    Samsung SM-A515F            6       Samsung Internet    0   0  "
            ]
          },
          "metadata": {
            "tags": []
          },
          "execution_count": 145
        }
      ]
    },
    {
      "cell_type": "code",
      "metadata": {
        "id": "TYE6TGQVB5xm",
        "colab_type": "code",
        "colab": {
          "base_uri": "https://localhost:8080/",
          "height": 197
        },
        "outputId": "2bf1a205-a3f2-4c6d-a478-b1f3ecb48879"
      },
      "source": [
        "control=df[df['experiment']=='control']\n",
        "control.tail(5)"
      ],
      "execution_count": null,
      "outputs": [
        {
          "output_type": "execute_result",
          "data": {
            "text/html": [
              "<div>\n",
              "<style scoped>\n",
              "    .dataframe tbody tr th:only-of-type {\n",
              "        vertical-align: middle;\n",
              "    }\n",
              "\n",
              "    .dataframe tbody tr th {\n",
              "        vertical-align: top;\n",
              "    }\n",
              "\n",
              "    .dataframe thead th {\n",
              "        text-align: right;\n",
              "    }\n",
              "</style>\n",
              "<table border=\"1\" class=\"dataframe\">\n",
              "  <thead>\n",
              "    <tr style=\"text-align: right;\">\n",
              "      <th></th>\n",
              "      <th>auction_id</th>\n",
              "      <th>experiment</th>\n",
              "      <th>date</th>\n",
              "      <th>hour</th>\n",
              "      <th>device_make</th>\n",
              "      <th>platform_os</th>\n",
              "      <th>browser</th>\n",
              "      <th>yes</th>\n",
              "      <th>no</th>\n",
              "    </tr>\n",
              "  </thead>\n",
              "  <tbody>\n",
              "    <tr>\n",
              "      <th>8069</th>\n",
              "      <td>ffca1153-c182-4f32-9e90-2a6008417497</td>\n",
              "      <td>control</td>\n",
              "      <td>2020-07-10</td>\n",
              "      <td>16</td>\n",
              "      <td>Generic Smartphone</td>\n",
              "      <td>6</td>\n",
              "      <td>Chrome Mobile</td>\n",
              "      <td>0</td>\n",
              "      <td>1</td>\n",
              "    </tr>\n",
              "    <tr>\n",
              "      <th>8070</th>\n",
              "      <td>ffcea781-a6e7-4f98-9d90-f95377270476</td>\n",
              "      <td>control</td>\n",
              "      <td>2020-07-03</td>\n",
              "      <td>15</td>\n",
              "      <td>Samsung SM-N976B</td>\n",
              "      <td>6</td>\n",
              "      <td>Facebook</td>\n",
              "      <td>0</td>\n",
              "      <td>0</td>\n",
              "    </tr>\n",
              "    <tr>\n",
              "      <th>8073</th>\n",
              "      <td>ffea3210-2c3e-426f-a77d-0aa72e73b20f</td>\n",
              "      <td>control</td>\n",
              "      <td>2020-07-03</td>\n",
              "      <td>15</td>\n",
              "      <td>Generic Smartphone</td>\n",
              "      <td>6</td>\n",
              "      <td>Chrome Mobile</td>\n",
              "      <td>0</td>\n",
              "      <td>0</td>\n",
              "    </tr>\n",
              "    <tr>\n",
              "      <th>8074</th>\n",
              "      <td>ffeaa0f1-1d72-4ba9-afb4-314b3b00a7c7</td>\n",
              "      <td>control</td>\n",
              "      <td>2020-07-04</td>\n",
              "      <td>9</td>\n",
              "      <td>Generic Smartphone</td>\n",
              "      <td>6</td>\n",
              "      <td>Chrome Mobile</td>\n",
              "      <td>0</td>\n",
              "      <td>0</td>\n",
              "    </tr>\n",
              "    <tr>\n",
              "      <th>8076</th>\n",
              "      <td>fffbb9ff-568a-41a5-a0c3-6866592f80d8</td>\n",
              "      <td>control</td>\n",
              "      <td>2020-07-10</td>\n",
              "      <td>14</td>\n",
              "      <td>Samsung SM-G960F</td>\n",
              "      <td>6</td>\n",
              "      <td>Facebook</td>\n",
              "      <td>0</td>\n",
              "      <td>0</td>\n",
              "    </tr>\n",
              "  </tbody>\n",
              "</table>\n",
              "</div>"
            ],
            "text/plain": [
              "                                auction_id experiment        date  hour  \\\n",
              "8069  ffca1153-c182-4f32-9e90-2a6008417497    control  2020-07-10    16   \n",
              "8070  ffcea781-a6e7-4f98-9d90-f95377270476    control  2020-07-03    15   \n",
              "8073  ffea3210-2c3e-426f-a77d-0aa72e73b20f    control  2020-07-03    15   \n",
              "8074  ffeaa0f1-1d72-4ba9-afb4-314b3b00a7c7    control  2020-07-04     9   \n",
              "8076  fffbb9ff-568a-41a5-a0c3-6866592f80d8    control  2020-07-10    14   \n",
              "\n",
              "             device_make  platform_os        browser  yes  no  \n",
              "8069  Generic Smartphone            6  Chrome Mobile    0   1  \n",
              "8070    Samsung SM-N976B            6       Facebook    0   0  \n",
              "8073  Generic Smartphone            6  Chrome Mobile    0   0  \n",
              "8074  Generic Smartphone            6  Chrome Mobile    0   0  \n",
              "8076    Samsung SM-G960F            6       Facebook    0   0  "
            ]
          },
          "metadata": {
            "tags": []
          },
          "execution_count": 144
        }
      ]
    },
    {
      "cell_type": "code",
      "metadata": {
        "id": "kt5o75LQCV_A",
        "colab_type": "code",
        "colab": {
          "base_uri": "https://localhost:8080/",
          "height": 70
        },
        "outputId": "c4efc463-5548-4369-c933-191538cb39b6"
      },
      "source": [
        "control['yes'].value_counts()"
      ],
      "execution_count": null,
      "outputs": [
        {
          "output_type": "execute_result",
          "data": {
            "text/plain": [
              "0    3807\n",
              "1     264\n",
              "Name: yes, dtype: int64"
            ]
          },
          "metadata": {
            "tags": []
          },
          "execution_count": 146
        }
      ]
    },
    {
      "cell_type": "code",
      "metadata": {
        "id": "XeNBoxmoCbCA",
        "colab_type": "code",
        "colab": {
          "base_uri": "https://localhost:8080/",
          "height": 70
        },
        "outputId": "810f1756-d8c8-495d-85f4-fe3f88462655"
      },
      "source": [
        "control['no'].value_counts()"
      ],
      "execution_count": null,
      "outputs": [
        {
          "output_type": "execute_result",
          "data": {
            "text/plain": [
              "0    3749\n",
              "1     322\n",
              "Name: no, dtype: int64"
            ]
          },
          "metadata": {
            "tags": []
          },
          "execution_count": 147
        }
      ]
    },
    {
      "cell_type": "code",
      "metadata": {
        "id": "36KGQHx1FQdv",
        "colab_type": "code",
        "colab": {
          "base_uri": "https://localhost:8080/",
          "height": 34
        },
        "outputId": "c360a949-96cd-4e77-d3d5-4d3715a80d52"
      },
      "source": [
        "control_converted,exposed_converted=control['yes'].sum(),exposed['yes'].sum()\n",
        "control_converted,exposed_converted"
      ],
      "execution_count": null,
      "outputs": [
        {
          "output_type": "execute_result",
          "data": {
            "text/plain": [
              "(264, 308)"
            ]
          },
          "metadata": {
            "tags": []
          },
          "execution_count": 148
        }
      ]
    },
    {
      "cell_type": "code",
      "metadata": {
        "id": "k9oZAMzHF7Ph",
        "colab_type": "code",
        "colab": {
          "base_uri": "https://localhost:8080/",
          "height": 34
        },
        "outputId": "477020ef-b184-42f2-8450-3a519ebcf47f"
      },
      "source": [
        "control_total,exposed_total=len(control),len(exposed)\n",
        "control_total,exposed_total"
      ],
      "execution_count": null,
      "outputs": [
        {
          "output_type": "execute_result",
          "data": {
            "text/plain": [
              "(4071, 4006)"
            ]
          },
          "metadata": {
            "tags": []
          },
          "execution_count": 149
        }
      ]
    },
    {
      "cell_type": "code",
      "metadata": {
        "id": "WCidZdl3GKUW",
        "colab_type": "code",
        "colab": {
          "base_uri": "https://localhost:8080/",
          "height": 34
        },
        "outputId": "dcf3b016-9e21-478e-da90-ab74621fd8ec"
      },
      "source": [
        "p_control, p_exposed =control_converted / control_total, exposed_converted / exposed_total\n",
        "p_control, p_exposed"
      ],
      "execution_count": null,
      "outputs": [
        {
          "output_type": "execute_result",
          "data": {
            "text/plain": [
              "(0.06484893146647015, 0.07688467299051423)"
            ]
          },
          "metadata": {
            "tags": []
          },
          "execution_count": 150
        }
      ]
    },
    {
      "cell_type": "code",
      "metadata": {
        "id": "Iqw6LjVJGmxP",
        "colab_type": "code",
        "colab": {
          "base_uri": "https://localhost:8080/",
          "height": 34
        },
        "outputId": "5b7e0a9d-e46d-4159-af62-37dc038ac0fb"
      },
      "source": [
        "p_exposed-p_control"
      ],
      "execution_count": null,
      "outputs": [
        {
          "output_type": "execute_result",
          "data": {
            "text/plain": [
              "0.012035741524044075"
            ]
          },
          "metadata": {
            "tags": []
          },
          "execution_count": 151
        }
      ]
    },
    {
      "cell_type": "code",
      "metadata": {
        "id": "DUDhgj_ZGsNA",
        "colab_type": "code",
        "colab": {
          "base_uri": "https://localhost:8080/",
          "height": 137
        },
        "outputId": "e847ee57-6c94-4363-951e-efc97a592109"
      },
      "source": [
        "df_summary['rate']=df.pivot_table(values='yes',index='experiment')\n",
        "df_summary"
      ],
      "execution_count": null,
      "outputs": [
        {
          "output_type": "execute_result",
          "data": {
            "text/html": [
              "<div>\n",
              "<style scoped>\n",
              "    .dataframe tbody tr th:only-of-type {\n",
              "        vertical-align: middle;\n",
              "    }\n",
              "\n",
              "    .dataframe tbody tr th {\n",
              "        vertical-align: top;\n",
              "    }\n",
              "\n",
              "    .dataframe thead th {\n",
              "        text-align: right;\n",
              "    }\n",
              "</style>\n",
              "<table border=\"1\" class=\"dataframe\">\n",
              "  <thead>\n",
              "    <tr style=\"text-align: right;\">\n",
              "      <th></th>\n",
              "      <th>yes</th>\n",
              "      <th>total</th>\n",
              "      <th>no</th>\n",
              "      <th>rate</th>\n",
              "    </tr>\n",
              "    <tr>\n",
              "      <th>experiment</th>\n",
              "      <th></th>\n",
              "      <th></th>\n",
              "      <th></th>\n",
              "      <th></th>\n",
              "    </tr>\n",
              "  </thead>\n",
              "  <tbody>\n",
              "    <tr>\n",
              "      <th>control</th>\n",
              "      <td>264</td>\n",
              "      <td>4071</td>\n",
              "      <td>322</td>\n",
              "      <td>0.064849</td>\n",
              "    </tr>\n",
              "    <tr>\n",
              "      <th>exposed</th>\n",
              "      <td>308</td>\n",
              "      <td>4006</td>\n",
              "      <td>349</td>\n",
              "      <td>0.076885</td>\n",
              "    </tr>\n",
              "  </tbody>\n",
              "</table>\n",
              "</div>"
            ],
            "text/plain": [
              "            yes  total   no      rate\n",
              "experiment                           \n",
              "control     264   4071  322  0.064849\n",
              "exposed     308   4006  349  0.076885"
            ]
          },
          "metadata": {
            "tags": []
          },
          "execution_count": 152
        }
      ]
    },
    {
      "cell_type": "markdown",
      "metadata": {
        "id": "1Od9dj_NykyD",
        "colab_type": "text"
      },
      "source": [
        ">> The rate of brand awareness in the control group is 0.064849 while in the exposed it is 0.076885.There's an increase of 0.01204 after the experiment in the exposed group."
      ]
    },
    {
      "cell_type": "markdown",
      "metadata": {
        "id": "E0Hw3SqO6iX_",
        "colab_type": "text"
      },
      "source": [
        ">> The next step is looking at the changes between the control and experiment groups with regard to our evaluation metrics to make sure the difference is there, that it is statistically significant and most importantly practically significant (the difference is \"big\" enough to make the experimented change beneficial to the company)."
      ]
    },
    {
      "cell_type": "markdown",
      "metadata": {
        "id": "LdNWpbxNIlHY",
        "colab_type": "text"
      },
      "source": [
        "### Hypothesis for A/B testing\n",
        "\n"
      ]
    },
    {
      "cell_type": "markdown",
      "metadata": {
        "id": "BSY7V_qJoBzV",
        "colab_type": "text"
      },
      "source": [
        "  - **Null Hypothesis** :There is no difference in brand awareness between the exposed and control groups in the current case.\n",
        "   \n",
        "  - **Alternative Hypothesis**:There is a difference in brand awareness between the exposed and control groups in the current case."
      ]
    },
    {
      "cell_type": "markdown",
      "metadata": {
        "id": "i4FX4UbicCH2",
        "colab_type": "text"
      },
      "source": [
        "We can work with binomial distribution or we can invoke the Central limit Theorem.As we are interested in the average conversion,this averaging of an underlying distribution means our final estimate will be well approxiamted by a normal distribution.\n",
        " So we reformulate using normal approximation"
      ]
    },
    {
      "cell_type": "code",
      "metadata": {
        "id": "jF62IZ7Zb5Er",
        "colab_type": "code",
        "colab": {
          "base_uri": "https://localhost:8080/",
          "height": 296
        },
        "outputId": "8c47e8b6-2aa0-4cd8-8d70-652e1304a915"
      },
      "source": [
        "from scipy.stats import norm\n",
        "\n",
        "\n",
        "std_control = np.sqrt(p_control * (1 - p_control) /control_total )\n",
        "std_exposed = np.sqrt(p_exposed * (1 - p_exposed) / exposed_total)\n",
        "\n",
        "click_rate = np.linspace(0, 0.2, 200)\n",
        "prob_a = norm(p_control, std_control).pdf(click_rate)\n",
        "prob_b = norm(p_exposed, std_exposed).pdf(click_rate)\n",
        "\n",
        "# Make the bar plots.\n",
        "plt.plot(click_rate, prob_a, label=\"A\")\n",
        "plt.plot(click_rate, prob_b, label=\"B\")\n",
        "plt.legend(frameon=False)\n",
        "plt.xlabel(\"Conversion rate\"); plt.ylabel(\"Probability\")"
      ],
      "execution_count": null,
      "outputs": [
        {
          "output_type": "execute_result",
          "data": {
            "text/plain": [
              "Text(0, 0.5, 'Probability')"
            ]
          },
          "metadata": {
            "tags": []
          },
          "execution_count": 20
        },
        {
          "output_type": "display_data",
          "data": {
            "image/png": "[encoded data removed]",
            "text/plain": [
              "<Figure size 432x288 with 1 Axes>"
            ]
          },
          "metadata": {
            "tags": [],
            "needs_background": "light"
          }
        }
      ]
    },
    {
      "cell_type": "code",
      "metadata": {
        "id": "1KY2tc77frYJ",
        "colab_type": "code",
        "colab": {
          "base_uri": "https://localhost:8080/",
          "height": 296
        },
        "outputId": "b71aaae4-6bac-413a-bd0b-10c5ddf1d519"
      },
      "source": [
        "z_score=(p_exposed-p_control)/np.sqrt(std_control**2+std_exposed**2)\n",
        "p=norm(p_exposed-p_control,np.sqrt(std_control**2+ std_exposed**2))\n",
        "\n",
        "x = np.linspace(-0.05, 0.15, 1000)\n",
        "y = p.pdf(x)\n",
        "area_under_curve = p.sf(0)\n",
        "plt.plot(x, y, label=\"PDF\")\n",
        "plt.fill_between(x, 0, y, where=x>0, label=\"Prob(exposed>control)\", alpha=0.3)\n",
        "plt.annotate(f\"Area={area_under_curve:0.3f}\", (0.02, 5))\n",
        "plt.legend()\n",
        "plt.xlabel(\"Difference in conversion rate\"); plt.ylabel(\"Prob\");\n",
        "\n",
        "print(f\"zscore is {z_score:0.3f}, with p-value {norm().sf(z_score):0.3f}\")\n",
        "\n"
      ],
      "execution_count": null,
      "outputs": [
        {
          "output_type": "stream",
          "text": [
            "zscore is 2.108, with p-value 0.018\n"
          ],
          "name": "stdout"
        },
        {
          "output_type": "display_data",
          "data": {
            "image/png": "[encoded data removed]",
            "text/plain": [
              "<Figure size 432x288 with 1 Axes>"
            ]
          },
          "metadata": {
            "tags": [],
            "needs_background": "light"
          }
        }
      ]
    },
    {
      "cell_type": "markdown",
      "metadata": {
        "id": "tw2qaiWko1CR",
        "colab_type": "text"
      },
      "source": [
        "Given the null hypothesis is true (There is no difference in brand awareness between the exposed and control groups in the current case.), we would expect to get this result or a result more extreme only 1.8% of the time. As that is an insignificant result (typically p < 5%), we reject the null hypothesis, and state that we have evidence that There is no difference in brand awareness between the exposed and control groups in the current case.A p-value less than 0.05 (typically ≤ 0.05) is statistically significant. It indicates strong evidence against the null hypothesis, as there is less than a 5% probability the null is correct (and the results are random). Therefore, we reject the null hypothesis, and accept the alternative hypothesis."
      ]
    },
    {
      "cell_type": "markdown",
      "metadata": {
        "id": "zw_4p2CaK6yb",
        "colab_type": "text"
      },
      "source": [
        ">> From above we can conclude that there  is a statistically significant difference in brand awareness between the exposed and control groups in the current case.\n",
        "We saw an increase in brand awareness between the control and exposed groups"
      ]
    },
    {
      "cell_type": "markdown",
      "metadata": {
        "id": "z58VpwHoasH_",
        "colab_type": "text"
      },
      "source": [
        "## <font color='#2F4F4F'>Machine Learning</font>"
      ]
    },
    {
      "cell_type": "markdown",
      "metadata": {
        "id": "WKm33MJYasH_",
        "colab_type": "text"
      },
      "source": [
        "We will carry out 3 types of classification analysis, namely:\n",
        "1. Logistic Regression\n",
        "2. Decison Trees italicised text\n",
        "3. XGboost\n",
        "\n",
        "We will then compare the different classification models to assess the best performing one(s)."
      ]
    },
    {
      "cell_type": "code",
      "metadata": {
        "id": "Cxw0S2ENprQb",
        "colab_type": "code",
        "colab": {
          "base_uri": "https://localhost:8080/",
          "height": 281
        },
        "outputId": "e2f8e79f-e29d-41ab-ccdc-35643f14baf6"
      },
      "source": [
        "df.head(5)"
      ],
      "execution_count": null,
      "outputs": [
        {
          "output_type": "execute_result",
          "data": {
            "text/html": [
              "<div>\n",
              "<style scoped>\n",
              "    .dataframe tbody tr th:only-of-type {\n",
              "        vertical-align: middle;\n",
              "    }\n",
              "\n",
              "    .dataframe tbody tr th {\n",
              "        vertical-align: top;\n",
              "    }\n",
              "\n",
              "    .dataframe thead th {\n",
              "        text-align: right;\n",
              "    }\n",
              "</style>\n",
              "<table border=\"1\" class=\"dataframe\">\n",
              "  <thead>\n",
              "    <tr style=\"text-align: right;\">\n",
              "      <th></th>\n",
              "      <th>auction_id</th>\n",
              "      <th>experiment</th>\n",
              "      <th>date</th>\n",
              "      <th>hour</th>\n",
              "      <th>device_make</th>\n",
              "      <th>platform_os</th>\n",
              "      <th>browser</th>\n",
              "      <th>yes</th>\n",
              "      <th>no</th>\n",
              "    </tr>\n",
              "  </thead>\n",
              "  <tbody>\n",
              "    <tr>\n",
              "      <th>0</th>\n",
              "      <td>0008ef63-77a7-448b-bd1e-075f42c55e39</td>\n",
              "      <td>exposed</td>\n",
              "      <td>2020-07-10</td>\n",
              "      <td>8</td>\n",
              "      <td>Generic Smartphone</td>\n",
              "      <td>6</td>\n",
              "      <td>Chrome Mobile</td>\n",
              "      <td>0</td>\n",
              "      <td>0</td>\n",
              "    </tr>\n",
              "    <tr>\n",
              "      <th>1</th>\n",
              "      <td>000eabc5-17ce-4137-8efe-44734d914446</td>\n",
              "      <td>exposed</td>\n",
              "      <td>2020-07-07</td>\n",
              "      <td>10</td>\n",
              "      <td>Generic Smartphone</td>\n",
              "      <td>6</td>\n",
              "      <td>Chrome Mobile</td>\n",
              "      <td>0</td>\n",
              "      <td>0</td>\n",
              "    </tr>\n",
              "    <tr>\n",
              "      <th>2</th>\n",
              "      <td>0016d14a-ae18-4a02-a204-6ba53b52f2ed</td>\n",
              "      <td>exposed</td>\n",
              "      <td>2020-07-05</td>\n",
              "      <td>2</td>\n",
              "      <td>E5823</td>\n",
              "      <td>6</td>\n",
              "      <td>Chrome Mobile WebView</td>\n",
              "      <td>0</td>\n",
              "      <td>1</td>\n",
              "    </tr>\n",
              "    <tr>\n",
              "      <th>3</th>\n",
              "      <td>00187412-2932-4542-a8ef-3633901c98d9</td>\n",
              "      <td>control</td>\n",
              "      <td>2020-07-03</td>\n",
              "      <td>15</td>\n",
              "      <td>Samsung</td>\n",
              "      <td>6</td>\n",
              "      <td>Facebook</td>\n",
              "      <td>0</td>\n",
              "      <td>0</td>\n",
              "    </tr>\n",
              "    <tr>\n",
              "      <th>4</th>\n",
              "      <td>001a7785-d3fe-4e11-a344-c8735acacc2c</td>\n",
              "      <td>control</td>\n",
              "      <td>2020-07-03</td>\n",
              "      <td>15</td>\n",
              "      <td>Generic Smartphone</td>\n",
              "      <td>6</td>\n",
              "      <td>Chrome Mobile</td>\n",
              "      <td>0</td>\n",
              "      <td>0</td>\n",
              "    </tr>\n",
              "  </tbody>\n",
              "</table>\n",
              "</div>"
            ],
            "text/plain": [
              "                             auction_id experiment        date  hour  \\\n",
              "0  0008ef63-77a7-448b-bd1e-075f42c55e39    exposed  2020-07-10     8   \n",
              "1  000eabc5-17ce-4137-8efe-44734d914446    exposed  2020-07-07    10   \n",
              "2  0016d14a-ae18-4a02-a204-6ba53b52f2ed    exposed  2020-07-05     2   \n",
              "3  00187412-2932-4542-a8ef-3633901c98d9    control  2020-07-03    15   \n",
              "4  001a7785-d3fe-4e11-a344-c8735acacc2c    control  2020-07-03    15   \n",
              "\n",
              "          device_make  platform_os                browser  yes  no  \n",
              "0  Generic Smartphone            6          Chrome Mobile    0   0  \n",
              "1  Generic Smartphone            6          Chrome Mobile    0   0  \n",
              "2               E5823            6  Chrome Mobile WebView    0   1  \n",
              "3             Samsung            6               Facebook    0   0  \n",
              "4  Generic Smartphone            6          Chrome Mobile    0   0  "
            ]
          },
          "metadata": {
            "tags": []
          },
          "execution_count": 151
        }
      ]
    },
    {
      "cell_type": "code",
      "metadata": {
        "id": "lfJxOY11pvat",
        "colab_type": "code",
        "colab": {}
      },
      "source": [
        "data=df.copy()"
      ],
      "execution_count": null,
      "outputs": []
    },
    {
      "cell_type": "markdown",
      "metadata": {
        "id": "ZQjql-lgasHJ",
        "colab_type": "text"
      },
      "source": [
        "### 3.3 Feature Engineering & Test for Multicollinearity\n",
        "* Before we can carry out the test for multicollinearity (a requirement for logistic regression), we need to convert some categorical values to numeric values and restructure some features."
      ]
    },
    {
      "cell_type": "markdown",
      "metadata": {
        "id": "aavgzcw76Zp6",
        "colab_type": "text"
      },
      "source": [
        "We will drop the auction id column since it just represnts randomly assigned numbers"
      ]
    },
    {
      "cell_type": "code",
      "metadata": {
        "id": "i1L1Jk1E4WP3",
        "colab_type": "code",
        "colab": {}
      },
      "source": [
        "data.drop('auction_id',axis=1,inplace=True)"
      ],
      "execution_count": null,
      "outputs": []
    },
    {
      "cell_type": "markdown",
      "metadata": {
        "id": "e9z3qKHf64nD",
        "colab_type": "text"
      },
      "source": [
        "For the target variable,we will have a column representing the response of the user i.e  yes or no.So we will drop those who didn't respond"
      ]
    },
    {
      "cell_type": "code",
      "metadata": {
        "id": "ZMtkmr1Lp2CT",
        "colab_type": "code",
        "colab": {
          "base_uri": "https://localhost:8080/",
          "height": 137
        },
        "outputId": "a9fb10c4-f922-4b42-c195-39beacefecec"
      },
      "source": [
        "data=data[~(data[['yes','no']] == 0).all(axis=1)]\n",
        "data.sample(3)"
      ],
      "execution_count": null,
      "outputs": [
        {
          "output_type": "execute_result",
          "data": {
            "text/html": [
              "<div>\n",
              "<style scoped>\n",
              "    .dataframe tbody tr th:only-of-type {\n",
              "        vertical-align: middle;\n",
              "    }\n",
              "\n",
              "    .dataframe tbody tr th {\n",
              "        vertical-align: top;\n",
              "    }\n",
              "\n",
              "    .dataframe thead th {\n",
              "        text-align: right;\n",
              "    }\n",
              "</style>\n",
              "<table border=\"1\" class=\"dataframe\">\n",
              "  <thead>\n",
              "    <tr style=\"text-align: right;\">\n",
              "      <th></th>\n",
              "      <th>experiment</th>\n",
              "      <th>date</th>\n",
              "      <th>hour</th>\n",
              "      <th>device_make</th>\n",
              "      <th>platform_os</th>\n",
              "      <th>browser</th>\n",
              "      <th>yes</th>\n",
              "      <th>no</th>\n",
              "    </tr>\n",
              "  </thead>\n",
              "  <tbody>\n",
              "    <tr>\n",
              "      <th>6871</th>\n",
              "      <td>exposed</td>\n",
              "      <td>2020-07-09</td>\n",
              "      <td>11</td>\n",
              "      <td>Generic Smartphone</td>\n",
              "      <td>6</td>\n",
              "      <td>Chrome Mobile</td>\n",
              "      <td>0</td>\n",
              "      <td>1</td>\n",
              "    </tr>\n",
              "    <tr>\n",
              "      <th>3730</th>\n",
              "      <td>exposed</td>\n",
              "      <td>2020-07-03</td>\n",
              "      <td>13</td>\n",
              "      <td>Generic Smartphone</td>\n",
              "      <td>6</td>\n",
              "      <td>Chrome Mobile</td>\n",
              "      <td>1</td>\n",
              "      <td>0</td>\n",
              "    </tr>\n",
              "    <tr>\n",
              "      <th>7654</th>\n",
              "      <td>exposed</td>\n",
              "      <td>2020-07-09</td>\n",
              "      <td>21</td>\n",
              "      <td>Generic Smartphone</td>\n",
              "      <td>6</td>\n",
              "      <td>Chrome Mobile WebView</td>\n",
              "      <td>1</td>\n",
              "      <td>0</td>\n",
              "    </tr>\n",
              "  </tbody>\n",
              "</table>\n",
              "</div>"
            ],
            "text/plain": [
              "     experiment        date  hour         device_make  platform_os  \\\n",
              "6871    exposed  2020-07-09    11  Generic Smartphone            6   \n",
              "3730    exposed  2020-07-03    13  Generic Smartphone            6   \n",
              "7654    exposed  2020-07-09    21  Generic Smartphone            6   \n",
              "\n",
              "                    browser  yes  no  \n",
              "6871          Chrome Mobile    0   1  \n",
              "3730          Chrome Mobile    1   0  \n",
              "7654  Chrome Mobile WebView    1   0  "
            ]
          },
          "metadata": {
            "tags": []
          },
          "execution_count": 154
        }
      ]
    },
    {
      "cell_type": "code",
      "metadata": {
        "id": "PV-nDMscvLOZ",
        "colab_type": "code",
        "colab": {
          "base_uri": "https://localhost:8080/",
          "height": 287
        },
        "outputId": "6bb07cb5-8896-43e5-b2ba-77f280f8571e"
      },
      "source": [
        "data['response']=np.where(data['yes']==1,1,0)\n",
        "data.drop('yes',axis=1,inplace=True)\n",
        "data.drop('no',axis=1,inplace=True)\n",
        "data.sample(8)"
      ],
      "execution_count": null,
      "outputs": [
        {
          "output_type": "execute_result",
          "data": {
            "text/html": [
              "<div>\n",
              "<style scoped>\n",
              "    .dataframe tbody tr th:only-of-type {\n",
              "        vertical-align: middle;\n",
              "    }\n",
              "\n",
              "    .dataframe tbody tr th {\n",
              "        vertical-align: top;\n",
              "    }\n",
              "\n",
              "    .dataframe thead th {\n",
              "        text-align: right;\n",
              "    }\n",
              "</style>\n",
              "<table border=\"1\" class=\"dataframe\">\n",
              "  <thead>\n",
              "    <tr style=\"text-align: right;\">\n",
              "      <th></th>\n",
              "      <th>experiment</th>\n",
              "      <th>date</th>\n",
              "      <th>hour</th>\n",
              "      <th>device_make</th>\n",
              "      <th>platform_os</th>\n",
              "      <th>browser</th>\n",
              "      <th>response</th>\n",
              "    </tr>\n",
              "  </thead>\n",
              "  <tbody>\n",
              "    <tr>\n",
              "      <th>4598</th>\n",
              "      <td>control</td>\n",
              "      <td>2020-07-03</td>\n",
              "      <td>15</td>\n",
              "      <td>Generic Smartphone</td>\n",
              "      <td>6</td>\n",
              "      <td>Chrome Mobile</td>\n",
              "      <td>1</td>\n",
              "    </tr>\n",
              "    <tr>\n",
              "      <th>6215</th>\n",
              "      <td>control</td>\n",
              "      <td>2020-07-03</td>\n",
              "      <td>15</td>\n",
              "      <td>Generic Smartphone</td>\n",
              "      <td>6</td>\n",
              "      <td>Chrome Mobile</td>\n",
              "      <td>0</td>\n",
              "    </tr>\n",
              "    <tr>\n",
              "      <th>5322</th>\n",
              "      <td>control</td>\n",
              "      <td>2020-07-10</td>\n",
              "      <td>11</td>\n",
              "      <td>Generic Smartphone</td>\n",
              "      <td>6</td>\n",
              "      <td>Chrome Mobile</td>\n",
              "      <td>0</td>\n",
              "    </tr>\n",
              "    <tr>\n",
              "      <th>3957</th>\n",
              "      <td>control</td>\n",
              "      <td>2020-07-06</td>\n",
              "      <td>1</td>\n",
              "      <td>MAR-LX1A</td>\n",
              "      <td>6</td>\n",
              "      <td>Facebook</td>\n",
              "      <td>0</td>\n",
              "    </tr>\n",
              "    <tr>\n",
              "      <th>4583</th>\n",
              "      <td>control</td>\n",
              "      <td>2020-07-03</td>\n",
              "      <td>15</td>\n",
              "      <td>Samsung</td>\n",
              "      <td>6</td>\n",
              "      <td>Chrome Mobile WebView</td>\n",
              "      <td>0</td>\n",
              "    </tr>\n",
              "    <tr>\n",
              "      <th>8054</th>\n",
              "      <td>exposed</td>\n",
              "      <td>2020-07-10</td>\n",
              "      <td>8</td>\n",
              "      <td>Samsung</td>\n",
              "      <td>6</td>\n",
              "      <td>Samsung Internet</td>\n",
              "      <td>1</td>\n",
              "    </tr>\n",
              "    <tr>\n",
              "      <th>1097</th>\n",
              "      <td>exposed</td>\n",
              "      <td>2020-07-03</td>\n",
              "      <td>8</td>\n",
              "      <td>iPhone</td>\n",
              "      <td>5</td>\n",
              "      <td>Mobile Safari</td>\n",
              "      <td>0</td>\n",
              "    </tr>\n",
              "    <tr>\n",
              "      <th>2239</th>\n",
              "      <td>exposed</td>\n",
              "      <td>2020-07-04</td>\n",
              "      <td>2</td>\n",
              "      <td>Generic Smartphone</td>\n",
              "      <td>6</td>\n",
              "      <td>Chrome Mobile WebView</td>\n",
              "      <td>0</td>\n",
              "    </tr>\n",
              "  </tbody>\n",
              "</table>\n",
              "</div>"
            ],
            "text/plain": [
              "     experiment        date  hour         device_make  platform_os  \\\n",
              "4598    control  2020-07-03    15  Generic Smartphone            6   \n",
              "6215    control  2020-07-03    15  Generic Smartphone            6   \n",
              "5322    control  2020-07-10    11  Generic Smartphone            6   \n",
              "3957    control  2020-07-06     1            MAR-LX1A            6   \n",
              "4583    control  2020-07-03    15             Samsung            6   \n",
              "8054    exposed  2020-07-10     8             Samsung            6   \n",
              "1097    exposed  2020-07-03     8              iPhone            5   \n",
              "2239    exposed  2020-07-04     2  Generic Smartphone            6   \n",
              "\n",
              "                    browser  response  \n",
              "4598          Chrome Mobile         1  \n",
              "6215          Chrome Mobile         0  \n",
              "5322          Chrome Mobile         0  \n",
              "3957               Facebook         0  \n",
              "4583  Chrome Mobile WebView         0  \n",
              "8054       Samsung Internet         1  \n",
              "1097          Mobile Safari         0  \n",
              "2239  Chrome Mobile WebView         0  "
            ]
          },
          "metadata": {
            "tags": []
          },
          "execution_count": 155
        }
      ]
    },
    {
      "cell_type": "markdown",
      "metadata": {
        "id": "ZGdHPu4n7bCk",
        "colab_type": "text"
      },
      "source": [
        "We now need to deal with the categorical variables..experiment,device_make and browser"
      ]
    },
    {
      "cell_type": "code",
      "metadata": {
        "id": "7BYEwPIazEfI",
        "colab_type": "code",
        "colab": {
          "base_uri": "https://localhost:8080/",
          "height": 123
        },
        "outputId": "771bb639-a95b-4243-c8a4-a94e2fda8523"
      },
      "source": [
        "experiment={'experiment':\n",
        "            {'exposed':1,'control':0}\n",
        "            }\n",
        "data.replace(experiment,inplace=True)\n",
        "data['experiment'].head(5)\n"
      ],
      "execution_count": null,
      "outputs": [
        {
          "output_type": "execute_result",
          "data": {
            "text/plain": [
              "2     1\n",
              "16    1\n",
              "20    1\n",
              "23    0\n",
              "27    0\n",
              "Name: experiment, dtype: int64"
            ]
          },
          "metadata": {
            "tags": []
          },
          "execution_count": 156
        }
      ]
    },
    {
      "cell_type": "code",
      "metadata": {
        "id": "yfOqMjKG3_ob",
        "colab_type": "code",
        "colab": {}
      },
      "source": [
        "data=pd.get_dummies(data,columns=['browser'])"
      ],
      "execution_count": null,
      "outputs": []
    },
    {
      "cell_type": "code",
      "metadata": {
        "id": "IkTKNUsR4kaO",
        "colab_type": "code",
        "colab": {
          "base_uri": "https://localhost:8080/",
          "height": 241
        },
        "outputId": "cb569364-ef0f-4724-c3a6-611b5738b188"
      },
      "source": [
        "data.head(3)"
      ],
      "execution_count": null,
      "outputs": [
        {
          "output_type": "execute_result",
          "data": {
            "text/html": [
              "<div>\n",
              "<style scoped>\n",
              "    .dataframe tbody tr th:only-of-type {\n",
              "        vertical-align: middle;\n",
              "    }\n",
              "\n",
              "    .dataframe tbody tr th {\n",
              "        vertical-align: top;\n",
              "    }\n",
              "\n",
              "    .dataframe thead th {\n",
              "        text-align: right;\n",
              "    }\n",
              "</style>\n",
              "<table border=\"1\" class=\"dataframe\">\n",
              "  <thead>\n",
              "    <tr style=\"text-align: right;\">\n",
              "      <th></th>\n",
              "      <th>experiment</th>\n",
              "      <th>date</th>\n",
              "      <th>hour</th>\n",
              "      <th>device_make</th>\n",
              "      <th>platform_os</th>\n",
              "      <th>response</th>\n",
              "      <th>browser_Chrome</th>\n",
              "      <th>browser_Chrome Mobile</th>\n",
              "      <th>browser_Chrome Mobile WebView</th>\n",
              "      <th>browser_Chrome Mobile iOS</th>\n",
              "      <th>browser_Facebook</th>\n",
              "      <th>browser_Mobile Safari</th>\n",
              "      <th>browser_Mobile Safari UI/WKWebView</th>\n",
              "      <th>browser_Samsung Internet</th>\n",
              "    </tr>\n",
              "  </thead>\n",
              "  <tbody>\n",
              "    <tr>\n",
              "      <th>2</th>\n",
              "      <td>1</td>\n",
              "      <td>2020-07-05</td>\n",
              "      <td>2</td>\n",
              "      <td>E5823</td>\n",
              "      <td>6</td>\n",
              "      <td>0</td>\n",
              "      <td>0</td>\n",
              "      <td>0</td>\n",
              "      <td>1</td>\n",
              "      <td>0</td>\n",
              "      <td>0</td>\n",
              "      <td>0</td>\n",
              "      <td>0</td>\n",
              "      <td>0</td>\n",
              "    </tr>\n",
              "    <tr>\n",
              "      <th>16</th>\n",
              "      <td>1</td>\n",
              "      <td>2020-07-04</td>\n",
              "      <td>16</td>\n",
              "      <td>Generic Smartphone</td>\n",
              "      <td>6</td>\n",
              "      <td>1</td>\n",
              "      <td>0</td>\n",
              "      <td>1</td>\n",
              "      <td>0</td>\n",
              "      <td>0</td>\n",
              "      <td>0</td>\n",
              "      <td>0</td>\n",
              "      <td>0</td>\n",
              "      <td>0</td>\n",
              "    </tr>\n",
              "    <tr>\n",
              "      <th>20</th>\n",
              "      <td>1</td>\n",
              "      <td>2020-07-06</td>\n",
              "      <td>8</td>\n",
              "      <td>Generic Smartphone</td>\n",
              "      <td>6</td>\n",
              "      <td>0</td>\n",
              "      <td>0</td>\n",
              "      <td>1</td>\n",
              "      <td>0</td>\n",
              "      <td>0</td>\n",
              "      <td>0</td>\n",
              "      <td>0</td>\n",
              "      <td>0</td>\n",
              "      <td>0</td>\n",
              "    </tr>\n",
              "  </tbody>\n",
              "</table>\n",
              "</div>"
            ],
            "text/plain": [
              "    experiment        date  hour         device_make  platform_os  response  \\\n",
              "2            1  2020-07-05     2               E5823            6         0   \n",
              "16           1  2020-07-04    16  Generic Smartphone            6         1   \n",
              "20           1  2020-07-06     8  Generic Smartphone            6         0   \n",
              "\n",
              "    browser_Chrome  browser_Chrome Mobile  browser_Chrome Mobile WebView  \\\n",
              "2                0                      0                              1   \n",
              "16               0                      1                              0   \n",
              "20               0                      1                              0   \n",
              "\n",
              "    browser_Chrome Mobile iOS  browser_Facebook  browser_Mobile Safari  \\\n",
              "2                           0                 0                      0   \n",
              "16                          0                 0                      0   \n",
              "20                          0                 0                      0   \n",
              "\n",
              "    browser_Mobile Safari UI/WKWebView  browser_Samsung Internet  \n",
              "2                                    0                         0  \n",
              "16                                   0                         0  \n",
              "20                                   0                         0  "
            ]
          },
          "metadata": {
            "tags": []
          },
          "execution_count": 158
        }
      ]
    },
    {
      "cell_type": "code",
      "metadata": {
        "id": "HG3Gu61X3YTd",
        "colab_type": "code",
        "colab": {}
      },
      "source": [
        "data.device_make.value_counts()\n",
        "searchfor=['Generic Smartphone','Samsung','iPhone','LG-$2','HTC','POT-LX1','Nokia','OnePlus','Pixel 3a','XiaoMi','CLT-L09' ]\n",
        "\n",
        "data.loc[~(data['device_make'].astype(str).str.contains('|'.join(searchfor))), 'device_make'] = 'Others'"
      ],
      "execution_count": null,
      "outputs": []
    },
    {
      "cell_type": "code",
      "metadata": {
        "id": "g4BU9kRX5nup",
        "colab_type": "code",
        "colab": {
          "base_uri": "https://localhost:8080/",
          "height": 230
        },
        "outputId": "00c5cc4b-9308-445a-fe95-12e2d9a56707"
      },
      "source": [
        "data['device_make'].value_counts().head(40)"
      ],
      "execution_count": null,
      "outputs": [
        {
          "output_type": "execute_result",
          "data": {
            "text/plain": [
              "Generic Smartphone    719\n",
              "Samsung               367\n",
              "Others                 89\n",
              "Nokia                  20\n",
              "iPhone                 18\n",
              "POT-LX1                 8\n",
              "XiaoMi                  6\n",
              "OnePlus                 5\n",
              "CLT-L09                 5\n",
              "HTC                     4\n",
              "Pixel 3a                2\n",
              "Name: device_make, dtype: int64"
            ]
          },
          "metadata": {
            "tags": []
          },
          "execution_count": 160
        }
      ]
    },
    {
      "cell_type": "code",
      "metadata": {
        "id": "QWR2TDSTymCx",
        "colab_type": "code",
        "colab": {
          "base_uri": "https://localhost:8080/",
          "height": 334
        },
        "outputId": "03a983fe-786f-47f9-fd03-2fae886b31df"
      },
      "source": [
        "from sklearn.preprocessing import LabelEncoder\n",
        "\n",
        "label_encoder = LabelEncoder()\n",
        "data[\"device_make\"] = label_encoder.fit_transform(data[\"device_make\"])\n",
        "data.head(5)"
      ],
      "execution_count": null,
      "outputs": [
        {
          "output_type": "execute_result",
          "data": {
            "text/html": [
              "<div>\n",
              "<style scoped>\n",
              "    .dataframe tbody tr th:only-of-type {\n",
              "        vertical-align: middle;\n",
              "    }\n",
              "\n",
              "    .dataframe tbody tr th {\n",
              "        vertical-align: top;\n",
              "    }\n",
              "\n",
              "    .dataframe thead th {\n",
              "        text-align: right;\n",
              "    }\n",
              "</style>\n",
              "<table border=\"1\" class=\"dataframe\">\n",
              "  <thead>\n",
              "    <tr style=\"text-align: right;\">\n",
              "      <th></th>\n",
              "      <th>experiment</th>\n",
              "      <th>date</th>\n",
              "      <th>hour</th>\n",
              "      <th>device_make</th>\n",
              "      <th>platform_os</th>\n",
              "      <th>response</th>\n",
              "      <th>browser_Chrome</th>\n",
              "      <th>browser_Chrome Mobile</th>\n",
              "      <th>browser_Chrome Mobile WebView</th>\n",
              "      <th>browser_Chrome Mobile iOS</th>\n",
              "      <th>browser_Facebook</th>\n",
              "      <th>browser_Mobile Safari</th>\n",
              "      <th>browser_Mobile Safari UI/WKWebView</th>\n",
              "      <th>browser_Samsung Internet</th>\n",
              "    </tr>\n",
              "  </thead>\n",
              "  <tbody>\n",
              "    <tr>\n",
              "      <th>2</th>\n",
              "      <td>1</td>\n",
              "      <td>2020-07-05</td>\n",
              "      <td>2</td>\n",
              "      <td>5</td>\n",
              "      <td>6</td>\n",
              "      <td>0</td>\n",
              "      <td>0</td>\n",
              "      <td>0</td>\n",
              "      <td>1</td>\n",
              "      <td>0</td>\n",
              "      <td>0</td>\n",
              "      <td>0</td>\n",
              "      <td>0</td>\n",
              "      <td>0</td>\n",
              "    </tr>\n",
              "    <tr>\n",
              "      <th>16</th>\n",
              "      <td>1</td>\n",
              "      <td>2020-07-04</td>\n",
              "      <td>16</td>\n",
              "      <td>1</td>\n",
              "      <td>6</td>\n",
              "      <td>1</td>\n",
              "      <td>0</td>\n",
              "      <td>1</td>\n",
              "      <td>0</td>\n",
              "      <td>0</td>\n",
              "      <td>0</td>\n",
              "      <td>0</td>\n",
              "      <td>0</td>\n",
              "      <td>0</td>\n",
              "    </tr>\n",
              "    <tr>\n",
              "      <th>20</th>\n",
              "      <td>1</td>\n",
              "      <td>2020-07-06</td>\n",
              "      <td>8</td>\n",
              "      <td>1</td>\n",
              "      <td>6</td>\n",
              "      <td>0</td>\n",
              "      <td>0</td>\n",
              "      <td>1</td>\n",
              "      <td>0</td>\n",
              "      <td>0</td>\n",
              "      <td>0</td>\n",
              "      <td>0</td>\n",
              "      <td>0</td>\n",
              "      <td>0</td>\n",
              "    </tr>\n",
              "    <tr>\n",
              "      <th>23</th>\n",
              "      <td>0</td>\n",
              "      <td>2020-07-08</td>\n",
              "      <td>4</td>\n",
              "      <td>8</td>\n",
              "      <td>6</td>\n",
              "      <td>1</td>\n",
              "      <td>0</td>\n",
              "      <td>0</td>\n",
              "      <td>0</td>\n",
              "      <td>0</td>\n",
              "      <td>1</td>\n",
              "      <td>0</td>\n",
              "      <td>0</td>\n",
              "      <td>0</td>\n",
              "    </tr>\n",
              "    <tr>\n",
              "      <th>27</th>\n",
              "      <td>0</td>\n",
              "      <td>2020-07-03</td>\n",
              "      <td>15</td>\n",
              "      <td>1</td>\n",
              "      <td>6</td>\n",
              "      <td>0</td>\n",
              "      <td>0</td>\n",
              "      <td>1</td>\n",
              "      <td>0</td>\n",
              "      <td>0</td>\n",
              "      <td>0</td>\n",
              "      <td>0</td>\n",
              "      <td>0</td>\n",
              "      <td>0</td>\n",
              "    </tr>\n",
              "  </tbody>\n",
              "</table>\n",
              "</div>"
            ],
            "text/plain": [
              "    experiment        date  hour  device_make  platform_os  response  \\\n",
              "2            1  2020-07-05     2            5            6         0   \n",
              "16           1  2020-07-04    16            1            6         1   \n",
              "20           1  2020-07-06     8            1            6         0   \n",
              "23           0  2020-07-08     4            8            6         1   \n",
              "27           0  2020-07-03    15            1            6         0   \n",
              "\n",
              "    browser_Chrome  browser_Chrome Mobile  browser_Chrome Mobile WebView  \\\n",
              "2                0                      0                              1   \n",
              "16               0                      1                              0   \n",
              "20               0                      1                              0   \n",
              "23               0                      0                              0   \n",
              "27               0                      1                              0   \n",
              "\n",
              "    browser_Chrome Mobile iOS  browser_Facebook  browser_Mobile Safari  \\\n",
              "2                           0                 0                      0   \n",
              "16                          0                 0                      0   \n",
              "20                          0                 0                      0   \n",
              "23                          0                 1                      0   \n",
              "27                          0                 0                      0   \n",
              "\n",
              "    browser_Mobile Safari UI/WKWebView  browser_Samsung Internet  \n",
              "2                                    0                         0  \n",
              "16                                   0                         0  \n",
              "20                                   0                         0  \n",
              "23                                   0                         0  \n",
              "27                                   0                         0  "
            ]
          },
          "metadata": {
            "tags": []
          },
          "execution_count": 161
        }
      ]
    },
    {
      "cell_type": "code",
      "metadata": {
        "id": "9APgION2ATZA",
        "colab_type": "code",
        "colab": {}
      },
      "source": [
        "data.head(5)\n",
        "data.drop('date',axis=1,inplace=True)"
      ],
      "execution_count": null,
      "outputs": []
    },
    {
      "cell_type": "code",
      "metadata": {
        "id": "IQPQ6u2J8aU3",
        "colab_type": "code",
        "colab": {
          "base_uri": "https://localhost:8080/",
          "height": 726
        },
        "outputId": "8a901d3f-b38d-4229-d94c-2b4b9b3d782d"
      },
      "source": [
        "# checking the correlations between the numerical variables\n",
        "\n",
        "corr = data.corr()\n",
        "\n",
        "# plotting the correlations onto a heatmap\n",
        "fig = plt.figure(figsize=(10,10))\n",
        "ax = fig.add_subplot(111)\n",
        "cax = ax.matshow(corr,cmap='coolwarm', vmin=-1, vmax=1)\n",
        "fig.colorbar(cax)\n",
        "ticks = np.arange(0,len(data.columns),1)\n",
        "ax.set_xticks(ticks)\n",
        "plt.xticks(rotation=90)\n",
        "ax.set_yticks(ticks)\n",
        "ax.set_xticklabels(data.columns)\n",
        "ax.set_yticklabels(data.columns)\n",
        "plt.show()"
      ],
      "execution_count": null,
      "outputs": [
        {
          "output_type": "display_data",
          "data": {
            "image/png": "[encoded data removed]",
            "text/plain": [
              "<Figure size 720x720 with 2 Axes>"
            ]
          },
          "metadata": {
            "tags": [],
            "needs_background": "light"
          }
        }
      ]
    },
    {
      "cell_type": "markdown",
      "metadata": {
        "id": "BQLHu2VPPiCT",
        "colab_type": "text"
      },
      "source": [
        "### Splitting data \n",
        "* We split the data into 70% training, 20% validation and 10% test\n"
      ]
    },
    {
      "cell_type": "code",
      "metadata": {
        "id": "wCVbM0xcasIL",
        "colab_type": "code",
        "colab": {}
      },
      "source": [
        "# dividing our dataset into features (X) and target (y)\n",
        "y = data.iloc[:,-1].values  # Independent/predictor variables\n",
        "X = data.iloc[:, :-1].values\n",
        "\n",
        "\n",
        "from sklearn.model_selection import train_test_split\n",
        "\n",
        "x, x_test, y, y_test = train_test_split(X,y,test_size=0.2,train_size=0.7,random_state = 0)\n",
        "x_train, x_cv, y_train, y_cv = train_test_split(x,y,test_size = 0.22,train_size =0.78,random_state = 0)"
      ],
      "execution_count": null,
      "outputs": []
    },
    {
      "cell_type": "code",
      "metadata": {
        "id": "cLa8VQrUasIS",
        "colab_type": "code",
        "colab": {}
      },
      "source": [
        "# performing feature scaling on our training data\n",
        "from sklearn.preprocessing import MinMaxScaler\n",
        "scaler = MinMaxScaler()\n",
        "\n",
        "# fitting and transforming X_train while transforming X_test\n",
        "x_train = scaler.fit_transform(x_train)\n",
        "x_test = scaler.transform(x_test)\n",
        "x_cv = scaler.transform(x_cv)"
      ],
      "execution_count": null,
      "outputs": []
    },
    {
      "cell_type": "markdown",
      "metadata": {
        "id": "KkiC_VCfPrFX",
        "colab_type": "text"
      },
      "source": [
        "###Apply ML and train using 5-fold CV\n",
        "* Train a machine learning model using 5-fold cross validation the following 3 different algorithms:\n",
        " * Logistic Regression \n",
        " * Decision Trees\n",
        " * XGBoost\n",
        "\n"
      ]
    },
    {
      "cell_type": "code",
      "metadata": {
        "id": "u7fuGd4cFSKH",
        "colab_type": "code",
        "colab": {
          "base_uri": "https://localhost:8080/",
          "height": 87
        },
        "outputId": "f4f7d8a5-eea4-480c-d40c-404364578527"
      },
      "source": [
        "# 5-fold cross-validation with logistic regression\n",
        "from sklearn.linear_model import LogisticRegression\n",
        "\n",
        "from sklearn.model_selection import cross_val_score\n",
        "\n",
        "logreg = LogisticRegression()\n",
        "\n",
        "print(cross_val_score(logreg, x_train, y_train, cv=5, scoring='accuracy').mean())\n",
        "\n",
        "scores=cross_val_score(logreg, x_train, y_train, cv=5, scoring='accuracy')\n",
        "print(\"Scores:\", scores)\n",
        "print(\"Mean:\", scores.mean())\n",
        "print(\"Standard Deviation:\", scores.std())"
      ],
      "execution_count": null,
      "outputs": [
        {
          "output_type": "stream",
          "text": [
            "0.9985185185185186\n",
            "Scores: [1.         1.         1.         1.         0.99259259]\n",
            "Mean: 0.9985185185185186\n",
            "Standard Deviation: 0.002962962962962967\n"
          ],
          "name": "stdout"
        }
      ]
    },
    {
      "cell_type": "code",
      "metadata": {
        "id": "o_205H7iESNg",
        "colab_type": "code",
        "colab": {
          "base_uri": "https://localhost:8080/",
          "height": 87
        },
        "outputId": "87db8186-243e-4890-ab21-aa3b9afaafa4"
      },
      "source": [
        "# 5-fold cross-validation with XGbooost\n",
        "from xgboost import XGBClassifier\n",
        "\n",
        "xgb_cv = XGBClassifier(n_estimators=100)\n",
        "\n",
        "print(cross_val_score(xgb_cv, x_train, y_train, cv=5, scoring = \"accuracy\").mean())\n",
        "\n",
        "scores = cross_val_score(xgb_cv, x_train, y_train, cv=5, scoring = \"accuracy\")\n",
        "print(\"Scores:\", scores)\n",
        "print(\"Mean:\", scores.mean())\n",
        "print(\"Standard Deviation:\", scores.std())"
      ],
      "execution_count": null,
      "outputs": [
        {
          "output_type": "stream",
          "text": [
            "1.0\n",
            "Scores: [1. 1. 1. 1. 1.]\n",
            "Mean: 1.0\n",
            "Standard Deviation: 0.0\n"
          ],
          "name": "stdout"
        }
      ]
    },
    {
      "cell_type": "code",
      "metadata": {
        "id": "i4-nqSBeFme7",
        "colab_type": "code",
        "colab": {
          "base_uri": "https://localhost:8080/",
          "height": 87
        },
        "outputId": "d5616f49-c29e-4306-bf8c-0b2dd93add01"
      },
      "source": [
        "# 5-fold cross-validation with Decision Tree Classifier\n",
        "from sklearn.tree import DecisionTreeClassifier\n",
        "\n",
        "decision_tree = DecisionTreeClassifier()\n",
        "\n",
        "print(cross_val_score(decision_tree, x_train, y_train, cv=5, scoring='accuracy').mean())\n",
        "\n",
        "scores = cross_val_score(decision_tree, x_train, y_train, cv=5, scoring = \"accuracy\")\n",
        "\n",
        "print(\"Scores:\", scores)\n",
        "print(\"Mean:\", scores.mean())\n",
        "print(\"Standard Deviation:\", scores.std())"
      ],
      "execution_count": null,
      "outputs": [
        {
          "output_type": "stream",
          "text": [
            "0.9985185185185186\n",
            "Scores: [1. 1. 1. 1. 1.]\n",
            "Mean: 1.0\n",
            "Standard Deviation: 0.0\n"
          ],
          "name": "stdout"
        }
      ]
    },
    {
      "cell_type": "markdown",
      "metadata": {
        "id": "RmDijaEMQiNt",
        "colab_type": "text"
      },
      "source": [
        "### Loss Function"
      ]
    },
    {
      "cell_type": "code",
      "metadata": {
        "id": "AcD9rU0rtk8z",
        "colab_type": "code",
        "colab": {
          "base_uri": "https://localhost:8080/",
          "height": 405
        },
        "outputId": "0fe4c08c-cad8-4ecc-bb54-b4fea2079cc9"
      },
      "source": [
        "from sklearn.metrics import log_loss\n",
        "# classification report for Logistic Regression\n",
        "print(\"Logistic Regression classification report:\")\n",
        "print(log_loss(y_test, logistic_y_prediction))\n",
        "\n",
        "\n",
        "# classification report for Decision Tree Classifier\n",
        "print(\"Decision Tree classification report:\")\n",
        "print(log_loss(y_test, decision_y_prediction))\n",
        "\n",
        "# classification report for Decision Tree Classifier\n",
        "print(\"XGBoost report:\")\n",
        "print(log_loss(y_test, xgb_y_prediction))"
      ],
      "execution_count": null,
      "outputs": [
        {
          "output_type": "stream",
          "text": [
            "Logistic Regression classification report:\n"
          ],
          "name": "stdout"
        },
        {
          "output_type": "error",
          "ename": "ValueError",
          "evalue": "ignored",
          "traceback": [
            "\u001b[0;31m---------------------------------------------------------------------------\u001b[0m",
            "\u001b[0;31mValueError\u001b[0m                                Traceback (most recent call last)",
            "\u001b[0;32m<ipython-input-170-2af630e9df44>\u001b[0m in \u001b[0;36m<module>\u001b[0;34m()\u001b[0m\n\u001b[1;32m      2\u001b[0m \u001b[0;31m# classification report for Logistic Regression\u001b[0m\u001b[0;34m\u001b[0m\u001b[0;34m\u001b[0m\u001b[0;34m\u001b[0m\u001b[0m\n\u001b[1;32m      3\u001b[0m \u001b[0mprint\u001b[0m\u001b[0;34m(\u001b[0m\u001b[0;34m\"Logistic Regression classification report:\"\u001b[0m\u001b[0;34m)\u001b[0m\u001b[0;34m\u001b[0m\u001b[0;34m\u001b[0m\u001b[0m\n\u001b[0;32m----> 4\u001b[0;31m \u001b[0mprint\u001b[0m\u001b[0;34m(\u001b[0m\u001b[0mlog_loss\u001b[0m\u001b[0;34m(\u001b[0m\u001b[0my_test\u001b[0m\u001b[0;34m,\u001b[0m \u001b[0mlogistic_y_prediction\u001b[0m\u001b[0;34m)\u001b[0m\u001b[0;34m)\u001b[0m\u001b[0;34m\u001b[0m\u001b[0;34m\u001b[0m\u001b[0m\n\u001b[0m\u001b[1;32m      5\u001b[0m \u001b[0;34m\u001b[0m\u001b[0m\n\u001b[1;32m      6\u001b[0m \u001b[0;34m\u001b[0m\u001b[0m\n",
            "\u001b[0;32m/usr/local/lib/python3.6/dist-packages/sklearn/metrics/_classification.py\u001b[0m in \u001b[0;36mlog_loss\u001b[0;34m(y_true, y_pred, eps, normalize, sample_weight, labels)\u001b[0m\n\u001b[1;32m   2240\u001b[0m     \"\"\"\n\u001b[1;32m   2241\u001b[0m     \u001b[0my_pred\u001b[0m \u001b[0;34m=\u001b[0m \u001b[0mcheck_array\u001b[0m\u001b[0;34m(\u001b[0m\u001b[0my_pred\u001b[0m\u001b[0;34m,\u001b[0m \u001b[0mensure_2d\u001b[0m\u001b[0;34m=\u001b[0m\u001b[0;32mFalse\u001b[0m\u001b[0;34m)\u001b[0m\u001b[0;34m\u001b[0m\u001b[0;34m\u001b[0m\u001b[0m\n\u001b[0;32m-> 2242\u001b[0;31m     \u001b[0mcheck_consistent_length\u001b[0m\u001b[0;34m(\u001b[0m\u001b[0my_pred\u001b[0m\u001b[0;34m,\u001b[0m \u001b[0my_true\u001b[0m\u001b[0;34m,\u001b[0m \u001b[0msample_weight\u001b[0m\u001b[0;34m)\u001b[0m\u001b[0;34m\u001b[0m\u001b[0;34m\u001b[0m\u001b[0m\n\u001b[0m\u001b[1;32m   2243\u001b[0m \u001b[0;34m\u001b[0m\u001b[0m\n\u001b[1;32m   2244\u001b[0m     \u001b[0mlb\u001b[0m \u001b[0;34m=\u001b[0m \u001b[0mLabelBinarizer\u001b[0m\u001b[0;34m(\u001b[0m\u001b[0;34m)\u001b[0m\u001b[0;34m\u001b[0m\u001b[0;34m\u001b[0m\u001b[0m\n",
            "\u001b[0;32m/usr/local/lib/python3.6/dist-packages/sklearn/utils/validation.py\u001b[0m in \u001b[0;36mcheck_consistent_length\u001b[0;34m(*arrays)\u001b[0m\n\u001b[1;32m    210\u001b[0m     \u001b[0;32mif\u001b[0m \u001b[0mlen\u001b[0m\u001b[0;34m(\u001b[0m\u001b[0muniques\u001b[0m\u001b[0;34m)\u001b[0m \u001b[0;34m>\u001b[0m \u001b[0;36m1\u001b[0m\u001b[0;34m:\u001b[0m\u001b[0;34m\u001b[0m\u001b[0;34m\u001b[0m\u001b[0m\n\u001b[1;32m    211\u001b[0m         raise ValueError(\"Found input variables with inconsistent numbers of\"\n\u001b[0;32m--> 212\u001b[0;31m                          \" samples: %r\" % [int(l) for l in lengths])\n\u001b[0m\u001b[1;32m    213\u001b[0m \u001b[0;34m\u001b[0m\u001b[0m\n\u001b[1;32m    214\u001b[0m \u001b[0;34m\u001b[0m\u001b[0m\n",
            "\u001b[0;31mValueError\u001b[0m: Found input variables with inconsistent numbers of samples: [1616, 249]"
          ]
        }
      ]
    },
    {
      "cell_type": "code",
      "metadata": {
        "id": "E3hBaXKTasIV",
        "colab_type": "code",
        "colab": {}
      },
      "source": [
        "logreg.fit(x_cv, y_cv)\n",
        "decision_tree.fit(x_cv, y_cv)\n",
        "xgb_cv.fit(x_cv, y_cv)\n",
        "\n",
        "\n",
        "# making predictions\n",
        "logistic_y_prediction = logreg.predict(x_test) \n",
        "decision_y_prediction = decision_tree.predict(x_test) \n",
        "xgb_y_prediction = xgb_cv.predict(x_test) \n"
      ],
      "execution_count": null,
      "outputs": []
    },
    {
      "cell_type": "code",
      "metadata": {
        "id": "KfXCA87-asIf",
        "colab_type": "code",
        "colab": {
          "base_uri": "https://localhost:8080/",
          "height": 550
        },
        "outputId": "b88e0dcb-ac33-4d3a-f75f-5bf6f2540ae7"
      },
      "source": [
        "# printing the classification report for each classifier to assess performance\n",
        "from sklearn.metrics import classification_report\n",
        "\n",
        "# classification report for Logistic Regression\n",
        "print(\"Logistic Regression classification report:\")\n",
        "print(classification_report(y_test, logistic_y_prediction))\n",
        "\n",
        "\n",
        "# classification report for Decision Tree Classifier\n",
        "print(\"Decision Tree classification report:\")\n",
        "print(classification_report(y_test, decision_y_prediction))\n",
        "\n",
        "# classification report for Decision Tree Classifier\n",
        "print(\"XGBoost report:\")\n",
        "print(classification_report(y_test, xgb_y_prediction))\n",
        "\n"
      ],
      "execution_count": null,
      "outputs": [
        {
          "output_type": "stream",
          "text": [
            "Logistic Regression classification report:\n",
            "              precision    recall  f1-score   support\n",
            "\n",
            "           0       1.00      1.00      1.00       228\n",
            "           1       0.95      1.00      0.98        21\n",
            "\n",
            "    accuracy                           1.00       249\n",
            "   macro avg       0.98      1.00      0.99       249\n",
            "weighted avg       1.00      1.00      1.00       249\n",
            "\n",
            "Decision Tree classification report:\n",
            "              precision    recall  f1-score   support\n",
            "\n",
            "           0       1.00      1.00      1.00       228\n",
            "           1       1.00      1.00      1.00        21\n",
            "\n",
            "    accuracy                           1.00       249\n",
            "   macro avg       1.00      1.00      1.00       249\n",
            "weighted avg       1.00      1.00      1.00       249\n",
            "\n",
            "XGBoost report:\n",
            "              precision    recall  f1-score   support\n",
            "\n",
            "           0       0.97      0.99      0.98       228\n",
            "           1       0.83      0.71      0.77        21\n",
            "\n",
            "    accuracy                           0.96       249\n",
            "   macro avg       0.90      0.85      0.87       249\n",
            "weighted avg       0.96      0.96      0.96       249\n",
            "\n"
          ],
          "name": "stdout"
        }
      ]
    },
    {
      "cell_type": "code",
      "metadata": {
        "id": "zAHGtaqZhWX8",
        "colab_type": "code",
        "colab": {}
      },
      "source": [
        "from sklearn.metrics import confusion_matrix \n",
        " \n",
        "print('Logistic Regression classifier:')\n",
        "print(confusion_matrix(logistic_y_prediction, y_test))\n",
        "\n",
        "print('Decision Tree classifier:')\n",
        "print(confusion_matrix(decision_y_prediction, y_test))\n",
        "\n",
        "print('XGBoost :')\n",
        "print(confusion_matrix(xgb_y_prediction, y_test))\n"
      ],
      "execution_count": null,
      "outputs": []
    },
    {
      "cell_type": "markdown",
      "metadata": {
        "id": "GlxgDJTxE6ci",
        "colab_type": "text"
      },
      "source": [
        "### Feature Importance\n",
        "\n",
        "* Provide insights into the dataset.The relative scores can highlight which features may be most relevant to the target, and the converse, which features are the least relevant.\n",
        "* Provide insight into the dataset.Most importance scores are calculated by a predictive model that has been fit on the dataset. Inspecting the importance score provides insight into that specific model and which features are the most important and least important to the model when making a prediction\n",
        "* Improve a predictive model.his can be achieved by using the importance scores to select those features to delete (lowest scores) or those features to keep (highest scores).\n",
        "---\n",
        "\n"
      ]
    },
    {
      "cell_type": "markdown",
      "metadata": {
        "id": "0micHFVSGVyu",
        "colab_type": "text"
      },
      "source": [
        "#### Logistic regression feature importance"
      ]
    },
    {
      "cell_type": "code",
      "metadata": {
        "id": "5SkwBroUW62T",
        "colab_type": "code",
        "colab": {}
      },
      "source": [
        "# get importance logistic\n",
        "from matplotlib import pyplot\n",
        "\n",
        "x=data.drop('response',axis=1).columns\n",
        "\n",
        "logreg.fit(x_train,y_train)\n",
        "importance = logreg.coef_[0]\n",
        "# summarize feature importance\n",
        "for x,v in zip(x,importance):\n",
        "\tprint('Feature: %s, Score: %.5f' % (x,v))\n",
        "# plot feature importance\n",
        "pyplot.bar([x for x in range(len(importance))], importance)\n",
        "pyplot.show()"
      ],
      "execution_count": null,
      "outputs": []
    },
    {
      "cell_type": "code",
      "metadata": {
        "id": "XTqGqgzjRIJf",
        "colab_type": "code",
        "colab": {}
      },
      "source": [
        "importances"
      ],
      "execution_count": null,
      "outputs": []
    },
    {
      "cell_type": "markdown",
      "metadata": {
        "id": "uhtT9VX2RO3X",
        "colab_type": "text"
      },
      "source": [
        ">> The following are important parameters for gaining more 'Yes' results:\n",
        "* platform_os\n",
        "* browser_Facebook\n",
        "* experiment\n",
        "* device make\n"
      ]
    },
    {
      "cell_type": "code",
      "metadata": {
        "id": "oU2o5NdBLfn6",
        "colab_type": "code",
        "colab": {}
      },
      "source": [
        "importances = pd.DataFrame({\n",
        "    'Feature': data.drop('response', axis=1).columns,\n",
        "    'Importance': logreg.coef_[0]\n",
        "})\n",
        "importances = importances.sort_values(by='Importance', ascending=False)\n",
        "importances = importances.set_index('Feature')\n",
        "importances.plot(kind='bar')"
      ],
      "execution_count": null,
      "outputs": []
    },
    {
      "cell_type": "markdown",
      "metadata": {
        "id": "tJw09RPAFa78",
        "colab_type": "text"
      },
      "source": [
        "Recall this is a classification problem with classes 0 and 1. Notice that the coefficients are both positive and negative. The positive scores indicate a feature that predicts class 1, whereas the negative scores indicate a feature that predicts class 0."
      ]
    },
    {
      "cell_type": "markdown",
      "metadata": {
        "id": "YAxYLpm1HB3n",
        "colab_type": "text"
      },
      "source": [
        "#### XGBoost Feature Importance"
      ]
    },
    {
      "cell_type": "code",
      "metadata": {
        "id": "X0a5HmpPXNAd",
        "colab_type": "code",
        "colab": {}
      },
      "source": [
        "xgb_cv.fit(x_train,y_train)\n",
        "importances = pd.DataFrame({\n",
        "    'Feature': data.drop('response', axis=1).columns,\n",
        "    'Importance': xgb_cv.feature_importances_\n",
        "})\n",
        "importances = importances.sort_values(by='Importance', ascending=False)\n",
        "importances = importances.set_index('Feature')\n",
        "importances"
      ],
      "execution_count": null,
      "outputs": []
    },
    {
      "cell_type": "markdown",
      "metadata": {
        "id": "o9qGvDGbR9uk",
        "colab_type": "text"
      },
      "source": [
        ">> The following are important features for the XGBoost model:\n",
        "* device_make\n",
        "* browser(Facebook,Samsung Internet,Chrome Mobile)\n",
        "* experiment"
      ]
    },
    {
      "cell_type": "code",
      "metadata": {
        "id": "UTCKpYxYIhny",
        "colab_type": "code",
        "colab": {}
      },
      "source": [
        "importances.plot(kind='bar')"
      ],
      "execution_count": null,
      "outputs": []
    },
    {
      "cell_type": "markdown",
      "metadata": {
        "id": "Kn3rub7YGfdP",
        "colab_type": "text"
      },
      "source": [
        "#### Decision Tree Feature Importance"
      ]
    },
    {
      "cell_type": "code",
      "metadata": {
        "id": "4JYeJ4TzXCzi",
        "colab_type": "code",
        "colab": {}
      },
      "source": [
        "# get importance for decision\n",
        "\n",
        "x=data.drop('response',axis=1).columns\n",
        "\n",
        "decision_tree.fit(x_train,y_train)\n",
        "importance = decision_tree.feature_importances_\n",
        "# summarize feature importance\n",
        "for x,v in zip(x,importance):\n",
        "\tprint('Feature: %s , Score: %.5f' % (x,v))\n",
        "# plot feature importance\n",
        "pyplot.bar([x for x in range(len(importance))], importance)\n",
        "pyplot.show()"
      ],
      "execution_count": null,
      "outputs": []
    },
    {
      "cell_type": "code",
      "metadata": {
        "id": "WChca-kESP4z",
        "colab_type": "code",
        "colab": {}
      },
      "source": [
        "importances"
      ],
      "execution_count": null,
      "outputs": []
    },
    {
      "cell_type": "markdown",
      "metadata": {
        "colab_type": "text",
        "id": "dsGukFjlSqzw"
      },
      "source": [
        ">> The following are important features for the Decision tree model:\n",
        "* hour\n",
        "* device_make\n",
        "* browser(Samsung Internet,Chrome Mobile view)\n",
        "* experiment"
      ]
    },
    {
      "cell_type": "code",
      "metadata": {
        "id": "XMKy_r12LLq5",
        "colab_type": "code",
        "colab": {}
      },
      "source": [
        "decision_tree.fit(x_train,y_train)\n",
        "importances = pd.DataFrame({\n",
        "    'Feature': data.drop('response', axis=1).columns,\n",
        "    'Importance': decision_tree.feature_importances_\n",
        "})\n",
        "importances = importances.sort_values(by='Importance', ascending=False)\n",
        "importances = importances.set_index('Feature')\n",
        "importances.plot(kind='bar')"
      ],
      "execution_count": null,
      "outputs": []
    },
    {
      "cell_type": "markdown",
      "metadata": {
        "id": "SdO4J6TKhIXR",
        "colab_type": "text"
      },
      "source": [
        "## <font color='#2F4F4F'>Summary of Findings</font>"
      ]
    },
    {
      "cell_type": "markdown",
      "metadata": {
        "colab_type": "text",
        "id": "vTbdjSrhVIiT"
      },
      "source": [
        "\n",
        "### **Best Model**\n",
        "\n",
        "### **Data features relevant for predicting target variable**\n",
        "* From the three models the top 5 features with the highest importance are:\n",
        " * Device_make\n",
        " * Browser(Samsung,Facebook,Chrome Mobile view)\n",
        " * Hour\n",
        " * platform_os\n",
        " * experiment\n",
        "\n",
        "  -Those using the above device_make,browser,platform_os at specified hours and belonging to a specific group contibute to target variable(yes ie. aware of brand)\n",
        "\n",
        "### **Difference between A/B testing and using Machine learning**\n",
        "* A/B testing is used to determine whether there's a significant difference between the two different groups for the control and exposed group.It helps us check whether the experiment carried out has any efect.\n",
        "* Machine learning   analysis provides the insight regarding the high or no significance of the experimental feature after fitting/predicting, you can obtain the feature importance to determine the best parameters for predicting the target variable.\n",
        "\n",
        "### **Purpose of training using k-fold cross validation**\n",
        "* Cross-validation is primarily used in to estimate the skill of a machine learning model on unseen data. That is, to use a limited sample in order to estimate how the model is expected to perform in general when used to make predictions on data not used during the training of the model.\n",
        "* Results in less biased or less optimistic estimate of the model skill than other methods.\n",
        "* A model that would just repeat the labels of the samples that it has just seen would have a perfect score but would fail to predict anything useful on yet-unseen data. This situation is called overfitting\n",
        "\n",
        "### **Information gained using ML approach that couldn't be obtained using A/B testing**\n",
        "* Feature Importance-ML helps us determine the best parameters  that lead a user to respond (yes) to awareness of brand. i.e predicting the target variable.This helps us determine the best metrics to rely on if we want to improve brand awareness.\n",
        "* While A/B testing,helps us determine if the change due to the experiement is statistically significantly different but doesn't provide further insights on how to improve the brand awareness."
      ]
    },
    {
      "cell_type": "markdown",
      "metadata": {
        "id": "grIrJh2phN-E",
        "colab_type": "text"
      },
      "source": [
        "## <font color='#2F4F4F'>Recommendations</font>"
      ]
    },
    {
      "cell_type": "markdown",
      "metadata": {
        "colab_type": "text",
        "id": "noZz5YRQXKzi"
      },
      "source": [
        "* From the analysis,the  creative,  online interactive \n",
        "ad has more effect than the dummy ad hence should be implemented for better brand awareness.\n",
        "*Furthermore,from the hour variable distribution,users mostly engaged at 1500 hrs  .Therefore most ads can be streamed during that period.Also there was high engagement on Friday(assuming this is the case for subsequent days ,as we only had one week) more effort in advertising should be emphasized during this day of the week.\n",
        "* We also noticed that most users responded through Facebook,consequently,advertisement in this platform should be considered and enhanced.\n"
      ]
    }
  ]
}